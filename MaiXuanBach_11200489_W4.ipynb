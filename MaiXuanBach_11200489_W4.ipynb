{
 "cells": [
  {
   "cell_type": "code",
   "execution_count": 1189,
   "id": "d74dd3a9",
   "metadata": {},
   "outputs": [],
   "source": [
    "# Full name: Mai Xuan Bach\n",
    "# ID: 11200489"
   ]
  },
  {
   "cell_type": "code",
   "execution_count": 1190,
   "id": "2220ea7d",
   "metadata": {},
   "outputs": [],
   "source": [
    "import numpy as np\n",
    "import pandas as pd\n",
    "import seaborn as sns\n",
    "import matplotlib.pyplot as plt"
   ]
  },
  {
   "cell_type": "code",
   "execution_count": 1191,
   "id": "2922fadf",
   "metadata": {},
   "outputs": [],
   "source": [
    "class LinearRegressionLR:\n",
    "    def __init__(self):\n",
    "        pass\n",
    "        \n",
    "    def fit(self, X, Y):\n",
    "        '''Fit the linear regression model\n",
    "        X: A matrix whose columns are the independent variables\n",
    "        Y: A/an matrix/array, which is the dependent variable\n",
    "        '''\n",
    "        \n",
    "        # Add an only-ones-column to X\n",
    "        self._original_X = X\n",
    "        self._X = np.insert(X, 0, [1] * X.shape[0], axis = 1)\n",
    "        \n",
    "        # Reshape Y to the right shape\n",
    "        self._Y = np.array(Y).reshape(-1, 1)\n",
    "        \n",
    "        # Compute W\n",
    "        self._W = np.matmul(np.matmul(np.linalg.inv(np.matmul(np.transpose(self._X), self._X)), np.transpose(self._X)), self._Y)\n",
    "    \n",
    "    def fit_ridge(self, X, Y):\n",
    "        '''Fit the Ridge regression model\n",
    "        X: A matrix whose columns are the independent variables\n",
    "        Y: A/an matrix/array, which is the dependent variable\n",
    "        '''\n",
    "        \n",
    "        # Add an only-ones-column to X\n",
    "        self._original_X = X\n",
    "        self._X = np.insert(X, 0, [1] * X.shape[0], axis = 1)\n",
    "        \n",
    "        # Reshape Y to the right shape\n",
    "        self._Y = np.array(Y).reshape(-1, 1)\n",
    "        \n",
    "        # Compute W\n",
    "        alpha = 0.0001\n",
    "        n, m = self._X.shape\n",
    "        \n",
    "        I = np.identity(m)\n",
    "        self._W = np.matmul(np.matmul(np.linalg.inv(np.matmul(np.transpose(self._X), self._X) + alpha * I), np.transpose(self._X)), self._Y)\n",
    "        \n",
    "    def fit_lasso(self, X, Y):\n",
    "        '''Fit the Lasso regression model\n",
    "        X: A matrix whose columns are the independent variables\n",
    "        Y: A/an matrix/array, which is the dependent variable\n",
    "        '''\n",
    "        self._original_X = X\n",
    "        \n",
    "        # Define learning rate, iterations, penality\n",
    "        self._learning_rate = 0.01\n",
    "        self._iterations = 10000\n",
    "        self._penality = 0.005\n",
    "          \n",
    "        # Weight initialization\n",
    "        self._X = np.insert(X, 0, [1] * X.shape[0], axis = 1)\n",
    "        self._Y = np.array(Y).reshape(-1, 1)\n",
    "        \n",
    "        # No_of_training_examples, no_of_features\n",
    "        self._m, self._n = self._X.shape\n",
    "        \n",
    "        # Set up W\n",
    "        self._W = np.zeros(self._n)\n",
    "\n",
    "        # Gradient descent learning\n",
    "        for i in range(self._iterations):\n",
    "            self.update_weights()\n",
    "        return self\n",
    "    \n",
    "    def update_weights(self):\n",
    "        \"\"\"Update weights for gradient descent in lasso fitting\"\"\"\n",
    "        Y_pred = self.predict(self._X, lasso = \"Y\")\n",
    "          \n",
    "        # Calculate gradients  \n",
    "        dW = np.zeros(self._n)\n",
    "        for j in range(self._n) :\n",
    "            if self._W[j] > 0:\n",
    "                dW[j] = (-2 * (np.transpose(self._X[:, j])).dot(self._Y - np.transpose(Y_pred)) + self._penality) / self._m\n",
    "          \n",
    "            else:\n",
    "                dW[j] = (-2 * (np.transpose(self._X[:, j])).dot(self._Y - np.transpose(Y_pred)) - self._penality) / self._m\n",
    "        \n",
    "        # Update weight\n",
    "        self._W = self._W - self._learning_rate * dW\n",
    "        return self\n",
    "        \n",
    "    def fit_poly(self, x, Y, poly, ridge = None, lasso = None):\n",
    "        '''Fit the linear regression model\n",
    "        x: An array (only one column)\n",
    "        Y: A/an matrix/array, which is the dependent variable\n",
    "        poly: the polynomial number\n",
    "        ridge = None (default): fitting ridge regression\n",
    "        lasso = None (default): fitting lasso regression\n",
    "        '''\n",
    "        self._poly = poly\n",
    "\n",
    "        # Save the features into a list\n",
    "        features = [x]\n",
    "        for i in range(1, poly):\n",
    "            features.append(x ** (i + 1))\n",
    "\n",
    "        # Construct the X matrix\n",
    "        X = np.transpose(np.matrix([each for each in features]))\n",
    "\n",
    "        # Fit\n",
    "        if ridge:\n",
    "            self.fit_ridge(X, Y)\n",
    "        elif lasso:\n",
    "            self.fit_lasso(X, Y)\n",
    "        else:\n",
    "            self.fit(X, Y)\n",
    "        \n",
    "    def coef(self):\n",
    "        \"Return the coefficients (matrix W)\"\n",
    "        return self._W\n",
    "    \n",
    "    def plot_model(self):\n",
    "        \"Plot model only for simple linear regression\"\n",
    "        # reshape(-1) is a line vector, when reshape(-1,1) is a column\n",
    "        # to plot, X have to be array to be the same size as Y:\n",
    "        self._original_X_plot = np.asarray(self._original_X).reshape(-1)\n",
    "        \n",
    "        # if not simple LR, could not plot\n",
    "        if self._original_X.shape[1] != 1:\n",
    "            raise Exception(\"This method is only used for simple LR.\")\n",
    "        \n",
    "        y_pred = self.predict(np.array(self._original_X))\n",
    "        \n",
    "        plt.scatter(self._original_X_plot, self._Y, color ='g')\n",
    "        plt.plot(self._original_X_plot, y_pred, color ='k')\n",
    "  \n",
    "        plt.show()\n",
    "    \n",
    "    def predict(self, new_X, lasso = None):\n",
    "        \"\"\"Predict new value\n",
    "        new_X: A new matrix of X to predict new Y\"\"\"\n",
    "        \n",
    "        if lasso == None:\n",
    "            new_X = np.insert(new_X, 0, [1] * new_X.shape[0], axis = 1)\n",
    "            \n",
    "        #print(\"new X:\", new_X, new_X.shape)\n",
    "        #print(\"W:\", self._W, self._W.shape)\n",
    "        return np.matmul(new_X, self._W)\n",
    "    \n",
    "    def plot_model_polynomial(self, lasso = None):\n",
    "        \"Plot model  for polynomial linear regression\"\n",
    "\n",
    "        # x_plot is the first column of X, that is x^1\n",
    "        x_plot = np.asarray(self._original_X[:, 0]).reshape(-1)\n",
    "        \n",
    "        # Plot the sin curve\n",
    "        a = np.linspace(0,1,100)\n",
    "        b = np.sin(np.pi * 2 * a) \n",
    "        plt.plot(a, b, color ='g')\n",
    "        \n",
    "        # Scatter data points\n",
    "        plt.scatter(x_plot, self._Y, color ='b', facecolors = \"none\", edgecolors= \"b\", s = 50)\n",
    "\n",
    "        # Plot the model curve\n",
    "        \n",
    "        features = [a]\n",
    "        for i in range(1, self._poly):\n",
    "            features.append(a ** (i + 1))\n",
    "        \n",
    "        # Construct the A matrix\n",
    "        A = np.transpose(np.matrix([each for each in features]))\n",
    "        #print(\"matrix A:\", A, A.shape)\n",
    "        \n",
    "        if self._poly == 0:\n",
    "            y_pred = np.transpose(np.matrix([float(self._W[0, 0])] * A.shape[0]))\n",
    "        else:\n",
    "            y_pred = self.predict(A)\n",
    "        #print(\"y pred:\", y_pred, y_pred.shape)\n",
    "\n",
    "        if lasso:\n",
    "            plt.plot(np.transpose(np.matrix(a)), np.transpose(y_pred), color ='r')\n",
    "        else:\n",
    "            plt.plot(np.asarray(a).reshape(-1), y_pred, color ='r')\n",
    "            \n",
    "        plt.xlabel('x')\n",
    "        plt.ylabel('t')\n",
    "        plt.annotate(\"M = {}\".format(self._poly), xy=(0.75, 1))\n",
    "        plt.axis([0, 1, -1.5, 1.5])\n",
    "        plt.show()"
   ]
  },
  {
   "cell_type": "markdown",
   "id": "beff7688",
   "metadata": {},
   "source": [
    "# Ex1."
   ]
  },
  {
   "cell_type": "markdown",
   "id": "177a4e74",
   "metadata": {},
   "source": [
    "Fit model parabol linear regression cho dữ liệu: https://github.com/nttuan8/DL_Tutorial/blob/master/L1/data_square.csv"
   ]
  },
  {
   "cell_type": "code",
   "execution_count": 1192,
   "id": "c0cd975e",
   "metadata": {},
   "outputs": [
    {
     "data": {
      "text/html": [
       "<div>\n",
       "<style scoped>\n",
       "    .dataframe tbody tr th:only-of-type {\n",
       "        vertical-align: middle;\n",
       "    }\n",
       "\n",
       "    .dataframe tbody tr th {\n",
       "        vertical-align: top;\n",
       "    }\n",
       "\n",
       "    .dataframe thead th {\n",
       "        text-align: right;\n",
       "    }\n",
       "</style>\n",
       "<table border=\"1\" class=\"dataframe\">\n",
       "  <thead>\n",
       "    <tr style=\"text-align: right;\">\n",
       "      <th></th>\n",
       "      <th>Diện tích</th>\n",
       "      <th>Giá nhà</th>\n",
       "    </tr>\n",
       "  </thead>\n",
       "  <tbody>\n",
       "    <tr>\n",
       "      <th>0</th>\n",
       "      <td>30.0000</td>\n",
       "      <td>-100.0000</td>\n",
       "    </tr>\n",
       "    <tr>\n",
       "      <th>1</th>\n",
       "      <td>32.4138</td>\n",
       "      <td>-190.7250</td>\n",
       "    </tr>\n",
       "    <tr>\n",
       "      <th>2</th>\n",
       "      <td>34.8276</td>\n",
       "      <td>-269.7980</td>\n",
       "    </tr>\n",
       "    <tr>\n",
       "      <th>3</th>\n",
       "      <td>37.2414</td>\n",
       "      <td>-337.2180</td>\n",
       "    </tr>\n",
       "    <tr>\n",
       "      <th>4</th>\n",
       "      <td>39.6552</td>\n",
       "      <td>-392.9850</td>\n",
       "    </tr>\n",
       "    <tr>\n",
       "      <th>5</th>\n",
       "      <td>42.0690</td>\n",
       "      <td>-437.0990</td>\n",
       "    </tr>\n",
       "    <tr>\n",
       "      <th>6</th>\n",
       "      <td>44.4828</td>\n",
       "      <td>-469.5600</td>\n",
       "    </tr>\n",
       "    <tr>\n",
       "      <th>7</th>\n",
       "      <td>46.8966</td>\n",
       "      <td>-490.3690</td>\n",
       "    </tr>\n",
       "    <tr>\n",
       "      <th>8</th>\n",
       "      <td>49.3103</td>\n",
       "      <td>-499.5240</td>\n",
       "    </tr>\n",
       "    <tr>\n",
       "      <th>9</th>\n",
       "      <td>51.7241</td>\n",
       "      <td>-497.0270</td>\n",
       "    </tr>\n",
       "    <tr>\n",
       "      <th>10</th>\n",
       "      <td>54.1379</td>\n",
       "      <td>-482.8780</td>\n",
       "    </tr>\n",
       "    <tr>\n",
       "      <th>11</th>\n",
       "      <td>56.5517</td>\n",
       "      <td>-457.0750</td>\n",
       "    </tr>\n",
       "    <tr>\n",
       "      <th>12</th>\n",
       "      <td>58.9655</td>\n",
       "      <td>-419.6200</td>\n",
       "    </tr>\n",
       "    <tr>\n",
       "      <th>13</th>\n",
       "      <td>61.3793</td>\n",
       "      <td>-370.5110</td>\n",
       "    </tr>\n",
       "    <tr>\n",
       "      <th>14</th>\n",
       "      <td>63.7931</td>\n",
       "      <td>-309.7500</td>\n",
       "    </tr>\n",
       "    <tr>\n",
       "      <th>15</th>\n",
       "      <td>66.2069</td>\n",
       "      <td>-237.3370</td>\n",
       "    </tr>\n",
       "    <tr>\n",
       "      <th>16</th>\n",
       "      <td>68.6207</td>\n",
       "      <td>-153.2700</td>\n",
       "    </tr>\n",
       "    <tr>\n",
       "      <th>17</th>\n",
       "      <td>71.0345</td>\n",
       "      <td>-57.5505</td>\n",
       "    </tr>\n",
       "    <tr>\n",
       "      <th>18</th>\n",
       "      <td>73.4483</td>\n",
       "      <td>49.8216</td>\n",
       "    </tr>\n",
       "    <tr>\n",
       "      <th>19</th>\n",
       "      <td>75.8621</td>\n",
       "      <td>168.8470</td>\n",
       "    </tr>\n",
       "    <tr>\n",
       "      <th>20</th>\n",
       "      <td>78.2759</td>\n",
       "      <td>299.5240</td>\n",
       "    </tr>\n",
       "    <tr>\n",
       "      <th>21</th>\n",
       "      <td>80.6897</td>\n",
       "      <td>441.8550</td>\n",
       "    </tr>\n",
       "    <tr>\n",
       "      <th>22</th>\n",
       "      <td>83.1034</td>\n",
       "      <td>595.8380</td>\n",
       "    </tr>\n",
       "    <tr>\n",
       "      <th>23</th>\n",
       "      <td>85.5172</td>\n",
       "      <td>761.4740</td>\n",
       "    </tr>\n",
       "    <tr>\n",
       "      <th>24</th>\n",
       "      <td>87.9310</td>\n",
       "      <td>938.7630</td>\n",
       "    </tr>\n",
       "    <tr>\n",
       "      <th>25</th>\n",
       "      <td>90.3448</td>\n",
       "      <td>1127.7100</td>\n",
       "    </tr>\n",
       "    <tr>\n",
       "      <th>26</th>\n",
       "      <td>92.7586</td>\n",
       "      <td>1328.3000</td>\n",
       "    </tr>\n",
       "    <tr>\n",
       "      <th>27</th>\n",
       "      <td>95.1724</td>\n",
       "      <td>1540.5500</td>\n",
       "    </tr>\n",
       "    <tr>\n",
       "      <th>28</th>\n",
       "      <td>97.5862</td>\n",
       "      <td>1764.4500</td>\n",
       "    </tr>\n",
       "    <tr>\n",
       "      <th>29</th>\n",
       "      <td>100.0000</td>\n",
       "      <td>2000.0000</td>\n",
       "    </tr>\n",
       "  </tbody>\n",
       "</table>\n",
       "</div>"
      ],
      "text/plain": [
       "    Diện tích    Giá nhà\n",
       "0     30.0000  -100.0000\n",
       "1     32.4138  -190.7250\n",
       "2     34.8276  -269.7980\n",
       "3     37.2414  -337.2180\n",
       "4     39.6552  -392.9850\n",
       "5     42.0690  -437.0990\n",
       "6     44.4828  -469.5600\n",
       "7     46.8966  -490.3690\n",
       "8     49.3103  -499.5240\n",
       "9     51.7241  -497.0270\n",
       "10    54.1379  -482.8780\n",
       "11    56.5517  -457.0750\n",
       "12    58.9655  -419.6200\n",
       "13    61.3793  -370.5110\n",
       "14    63.7931  -309.7500\n",
       "15    66.2069  -237.3370\n",
       "16    68.6207  -153.2700\n",
       "17    71.0345   -57.5505\n",
       "18    73.4483    49.8216\n",
       "19    75.8621   168.8470\n",
       "20    78.2759   299.5240\n",
       "21    80.6897   441.8550\n",
       "22    83.1034   595.8380\n",
       "23    85.5172   761.4740\n",
       "24    87.9310   938.7630\n",
       "25    90.3448  1127.7100\n",
       "26    92.7586  1328.3000\n",
       "27    95.1724  1540.5500\n",
       "28    97.5862  1764.4500\n",
       "29   100.0000  2000.0000"
      ]
     },
     "execution_count": 1192,
     "metadata": {},
     "output_type": "execute_result"
    }
   ],
   "source": [
    "data_square = pd.read_csv(\"./data_square.csv\")\n",
    "data_square"
   ]
  },
  {
   "cell_type": "code",
   "execution_count": 1193,
   "id": "888cce67",
   "metadata": {},
   "outputs": [],
   "source": [
    "data_square.rename(columns = {\"Diện tích\" : \"size\", \"Giá nhà\": \"price\"}, inplace=True)"
   ]
  },
  {
   "cell_type": "code",
   "execution_count": 1194,
   "id": "450a6d06",
   "metadata": {},
   "outputs": [
    {
     "data": {
      "text/html": [
       "<div>\n",
       "<style scoped>\n",
       "    .dataframe tbody tr th:only-of-type {\n",
       "        vertical-align: middle;\n",
       "    }\n",
       "\n",
       "    .dataframe tbody tr th {\n",
       "        vertical-align: top;\n",
       "    }\n",
       "\n",
       "    .dataframe thead th {\n",
       "        text-align: right;\n",
       "    }\n",
       "</style>\n",
       "<table border=\"1\" class=\"dataframe\">\n",
       "  <thead>\n",
       "    <tr style=\"text-align: right;\">\n",
       "      <th></th>\n",
       "      <th>size</th>\n",
       "      <th>price</th>\n",
       "    </tr>\n",
       "  </thead>\n",
       "  <tbody>\n",
       "    <tr>\n",
       "      <th>0</th>\n",
       "      <td>30.0000</td>\n",
       "      <td>-100.000</td>\n",
       "    </tr>\n",
       "    <tr>\n",
       "      <th>1</th>\n",
       "      <td>32.4138</td>\n",
       "      <td>-190.725</td>\n",
       "    </tr>\n",
       "    <tr>\n",
       "      <th>2</th>\n",
       "      <td>34.8276</td>\n",
       "      <td>-269.798</td>\n",
       "    </tr>\n",
       "    <tr>\n",
       "      <th>3</th>\n",
       "      <td>37.2414</td>\n",
       "      <td>-337.218</td>\n",
       "    </tr>\n",
       "    <tr>\n",
       "      <th>4</th>\n",
       "      <td>39.6552</td>\n",
       "      <td>-392.985</td>\n",
       "    </tr>\n",
       "  </tbody>\n",
       "</table>\n",
       "</div>"
      ],
      "text/plain": [
       "      size    price\n",
       "0  30.0000 -100.000\n",
       "1  32.4138 -190.725\n",
       "2  34.8276 -269.798\n",
       "3  37.2414 -337.218\n",
       "4  39.6552 -392.985"
      ]
     },
     "execution_count": 1194,
     "metadata": {},
     "output_type": "execute_result"
    }
   ],
   "source": [
    "data_square.head()"
   ]
  },
  {
   "cell_type": "code",
   "execution_count": 1195,
   "id": "2c2834a6",
   "metadata": {},
   "outputs": [],
   "source": [
    "data_square[\"size_square\"] = data_square[\"size\"] ** 2"
   ]
  },
  {
   "cell_type": "code",
   "execution_count": 1196,
   "id": "8e04dcea",
   "metadata": {},
   "outputs": [
    {
     "data": {
      "text/html": [
       "<div>\n",
       "<style scoped>\n",
       "    .dataframe tbody tr th:only-of-type {\n",
       "        vertical-align: middle;\n",
       "    }\n",
       "\n",
       "    .dataframe tbody tr th {\n",
       "        vertical-align: top;\n",
       "    }\n",
       "\n",
       "    .dataframe thead th {\n",
       "        text-align: right;\n",
       "    }\n",
       "</style>\n",
       "<table border=\"1\" class=\"dataframe\">\n",
       "  <thead>\n",
       "    <tr style=\"text-align: right;\">\n",
       "      <th></th>\n",
       "      <th>size</th>\n",
       "      <th>price</th>\n",
       "      <th>size_square</th>\n",
       "    </tr>\n",
       "  </thead>\n",
       "  <tbody>\n",
       "    <tr>\n",
       "      <th>0</th>\n",
       "      <td>30.0000</td>\n",
       "      <td>-100.000</td>\n",
       "      <td>900.000000</td>\n",
       "    </tr>\n",
       "    <tr>\n",
       "      <th>1</th>\n",
       "      <td>32.4138</td>\n",
       "      <td>-190.725</td>\n",
       "      <td>1050.654430</td>\n",
       "    </tr>\n",
       "    <tr>\n",
       "      <th>2</th>\n",
       "      <td>34.8276</td>\n",
       "      <td>-269.798</td>\n",
       "      <td>1212.961722</td>\n",
       "    </tr>\n",
       "    <tr>\n",
       "      <th>3</th>\n",
       "      <td>37.2414</td>\n",
       "      <td>-337.218</td>\n",
       "      <td>1386.921874</td>\n",
       "    </tr>\n",
       "    <tr>\n",
       "      <th>4</th>\n",
       "      <td>39.6552</td>\n",
       "      <td>-392.985</td>\n",
       "      <td>1572.534887</td>\n",
       "    </tr>\n",
       "  </tbody>\n",
       "</table>\n",
       "</div>"
      ],
      "text/plain": [
       "      size    price  size_square\n",
       "0  30.0000 -100.000   900.000000\n",
       "1  32.4138 -190.725  1050.654430\n",
       "2  34.8276 -269.798  1212.961722\n",
       "3  37.2414 -337.218  1386.921874\n",
       "4  39.6552 -392.985  1572.534887"
      ]
     },
     "execution_count": 1196,
     "metadata": {},
     "output_type": "execute_result"
    }
   ],
   "source": [
    "data_square.head()"
   ]
  },
  {
   "cell_type": "code",
   "execution_count": 1197,
   "id": "3029e1aa",
   "metadata": {},
   "outputs": [],
   "source": [
    "# pip install plotly"
   ]
  },
  {
   "cell_type": "code",
   "execution_count": 1198,
   "id": "48850985",
   "metadata": {},
   "outputs": [
    {
     "data": {
      "application/vnd.plotly.v1+json": {
       "config": {
        "plotlyServerURL": "https://plot.ly"
       },
       "data": [
        {
         "hovertemplate": "size=%{x}<br>size_square=%{y}<br>price=%{marker.color}<extra></extra>",
         "legendgroup": "",
         "marker": {
          "color": [
           -100,
           -190.725,
           -269.798,
           -337.218,
           -392.985,
           -437.099,
           -469.56,
           -490.369,
           -499.524,
           -497.027,
           -482.878,
           -457.075,
           -419.62,
           -370.511,
           -309.75,
           -237.337,
           -153.27,
           -57.5505,
           49.8216,
           168.847,
           299.524,
           441.855,
           595.838,
           761.474,
           938.763,
           1127.71,
           1328.3,
           1540.55,
           1764.45,
           2000
          ],
          "coloraxis": "coloraxis",
          "symbol": "circle"
         },
         "mode": "markers",
         "name": "",
         "scene": "scene",
         "showlegend": false,
         "type": "scatter3d",
         "x": [
          30,
          32.4138,
          34.8276,
          37.2414,
          39.6552,
          42.069,
          44.4828,
          46.8966,
          49.3103,
          51.7241,
          54.1379,
          56.5517,
          58.9655,
          61.3793,
          63.7931,
          66.2069,
          68.6207,
          71.0345,
          73.4483,
          75.8621,
          78.2759,
          80.6897,
          83.1034,
          85.5172,
          87.931,
          90.3448,
          92.7586,
          95.1724,
          97.5862,
          100
         ],
         "y": [
          900,
          1050.6544304400002,
          1212.9617217599998,
          1386.9218739599999,
          1572.53488704,
          1769.8007610000002,
          1978.7194958399998,
          2199.29109156,
          2431.50568609,
          2675.38252081,
          2930.9122164100004,
          3198.0947728899996,
          3476.9301902499997,
          3767.41846849,
          4069.5596076100005,
          4383.353607610001,
          4708.80046849,
          5045.9001902499995,
          5394.65277289,
          5755.05821641,
          6127.116520809999,
          6510.8276860900005,
          6906.175091559999,
          7313.19149584,
          7731.860761,
          8162.182887040001,
          8604.15787396,
          9057.78572176,
          9523.066430440002,
          10000
         ],
         "z": [
          -100,
          -190.725,
          -269.798,
          -337.218,
          -392.985,
          -437.099,
          -469.56,
          -490.369,
          -499.524,
          -497.027,
          -482.878,
          -457.075,
          -419.62,
          -370.511,
          -309.75,
          -237.337,
          -153.27,
          -57.5505,
          49.8216,
          168.847,
          299.524,
          441.855,
          595.838,
          761.474,
          938.763,
          1127.71,
          1328.3,
          1540.55,
          1764.45,
          2000
         ]
        }
       ],
       "layout": {
        "coloraxis": {
         "colorbar": {
          "title": {
           "text": "price"
          }
         },
         "colorscale": [
          [
           0,
           "#0d0887"
          ],
          [
           0.1111111111111111,
           "#46039f"
          ],
          [
           0.2222222222222222,
           "#7201a8"
          ],
          [
           0.3333333333333333,
           "#9c179e"
          ],
          [
           0.4444444444444444,
           "#bd3786"
          ],
          [
           0.5555555555555556,
           "#d8576b"
          ],
          [
           0.6666666666666666,
           "#ed7953"
          ],
          [
           0.7777777777777778,
           "#fb9f3a"
          ],
          [
           0.8888888888888888,
           "#fdca26"
          ],
          [
           1,
           "#f0f921"
          ]
         ]
        },
        "legend": {
         "tracegroupgap": 0
        },
        "margin": {
         "t": 60
        },
        "scene": {
         "domain": {
          "x": [
           0,
           1
          ],
          "y": [
           0,
           1
          ]
         },
         "xaxis": {
          "title": {
           "text": "size"
          }
         },
         "yaxis": {
          "title": {
           "text": "size_square"
          }
         },
         "zaxis": {
          "title": {
           "text": "price"
          }
         }
        },
        "template": {
         "data": {
          "bar": [
           {
            "error_x": {
             "color": "#2a3f5f"
            },
            "error_y": {
             "color": "#2a3f5f"
            },
            "marker": {
             "line": {
              "color": "#E5ECF6",
              "width": 0.5
             },
             "pattern": {
              "fillmode": "overlay",
              "size": 10,
              "solidity": 0.2
             }
            },
            "type": "bar"
           }
          ],
          "barpolar": [
           {
            "marker": {
             "line": {
              "color": "#E5ECF6",
              "width": 0.5
             },
             "pattern": {
              "fillmode": "overlay",
              "size": 10,
              "solidity": 0.2
             }
            },
            "type": "barpolar"
           }
          ],
          "carpet": [
           {
            "aaxis": {
             "endlinecolor": "#2a3f5f",
             "gridcolor": "white",
             "linecolor": "white",
             "minorgridcolor": "white",
             "startlinecolor": "#2a3f5f"
            },
            "baxis": {
             "endlinecolor": "#2a3f5f",
             "gridcolor": "white",
             "linecolor": "white",
             "minorgridcolor": "white",
             "startlinecolor": "#2a3f5f"
            },
            "type": "carpet"
           }
          ],
          "choropleth": [
           {
            "colorbar": {
             "outlinewidth": 0,
             "ticks": ""
            },
            "type": "choropleth"
           }
          ],
          "contour": [
           {
            "colorbar": {
             "outlinewidth": 0,
             "ticks": ""
            },
            "colorscale": [
             [
              0,
              "#0d0887"
             ],
             [
              0.1111111111111111,
              "#46039f"
             ],
             [
              0.2222222222222222,
              "#7201a8"
             ],
             [
              0.3333333333333333,
              "#9c179e"
             ],
             [
              0.4444444444444444,
              "#bd3786"
             ],
             [
              0.5555555555555556,
              "#d8576b"
             ],
             [
              0.6666666666666666,
              "#ed7953"
             ],
             [
              0.7777777777777778,
              "#fb9f3a"
             ],
             [
              0.8888888888888888,
              "#fdca26"
             ],
             [
              1,
              "#f0f921"
             ]
            ],
            "type": "contour"
           }
          ],
          "contourcarpet": [
           {
            "colorbar": {
             "outlinewidth": 0,
             "ticks": ""
            },
            "type": "contourcarpet"
           }
          ],
          "heatmap": [
           {
            "colorbar": {
             "outlinewidth": 0,
             "ticks": ""
            },
            "colorscale": [
             [
              0,
              "#0d0887"
             ],
             [
              0.1111111111111111,
              "#46039f"
             ],
             [
              0.2222222222222222,
              "#7201a8"
             ],
             [
              0.3333333333333333,
              "#9c179e"
             ],
             [
              0.4444444444444444,
              "#bd3786"
             ],
             [
              0.5555555555555556,
              "#d8576b"
             ],
             [
              0.6666666666666666,
              "#ed7953"
             ],
             [
              0.7777777777777778,
              "#fb9f3a"
             ],
             [
              0.8888888888888888,
              "#fdca26"
             ],
             [
              1,
              "#f0f921"
             ]
            ],
            "type": "heatmap"
           }
          ],
          "heatmapgl": [
           {
            "colorbar": {
             "outlinewidth": 0,
             "ticks": ""
            },
            "colorscale": [
             [
              0,
              "#0d0887"
             ],
             [
              0.1111111111111111,
              "#46039f"
             ],
             [
              0.2222222222222222,
              "#7201a8"
             ],
             [
              0.3333333333333333,
              "#9c179e"
             ],
             [
              0.4444444444444444,
              "#bd3786"
             ],
             [
              0.5555555555555556,
              "#d8576b"
             ],
             [
              0.6666666666666666,
              "#ed7953"
             ],
             [
              0.7777777777777778,
              "#fb9f3a"
             ],
             [
              0.8888888888888888,
              "#fdca26"
             ],
             [
              1,
              "#f0f921"
             ]
            ],
            "type": "heatmapgl"
           }
          ],
          "histogram": [
           {
            "marker": {
             "pattern": {
              "fillmode": "overlay",
              "size": 10,
              "solidity": 0.2
             }
            },
            "type": "histogram"
           }
          ],
          "histogram2d": [
           {
            "colorbar": {
             "outlinewidth": 0,
             "ticks": ""
            },
            "colorscale": [
             [
              0,
              "#0d0887"
             ],
             [
              0.1111111111111111,
              "#46039f"
             ],
             [
              0.2222222222222222,
              "#7201a8"
             ],
             [
              0.3333333333333333,
              "#9c179e"
             ],
             [
              0.4444444444444444,
              "#bd3786"
             ],
             [
              0.5555555555555556,
              "#d8576b"
             ],
             [
              0.6666666666666666,
              "#ed7953"
             ],
             [
              0.7777777777777778,
              "#fb9f3a"
             ],
             [
              0.8888888888888888,
              "#fdca26"
             ],
             [
              1,
              "#f0f921"
             ]
            ],
            "type": "histogram2d"
           }
          ],
          "histogram2dcontour": [
           {
            "colorbar": {
             "outlinewidth": 0,
             "ticks": ""
            },
            "colorscale": [
             [
              0,
              "#0d0887"
             ],
             [
              0.1111111111111111,
              "#46039f"
             ],
             [
              0.2222222222222222,
              "#7201a8"
             ],
             [
              0.3333333333333333,
              "#9c179e"
             ],
             [
              0.4444444444444444,
              "#bd3786"
             ],
             [
              0.5555555555555556,
              "#d8576b"
             ],
             [
              0.6666666666666666,
              "#ed7953"
             ],
             [
              0.7777777777777778,
              "#fb9f3a"
             ],
             [
              0.8888888888888888,
              "#fdca26"
             ],
             [
              1,
              "#f0f921"
             ]
            ],
            "type": "histogram2dcontour"
           }
          ],
          "mesh3d": [
           {
            "colorbar": {
             "outlinewidth": 0,
             "ticks": ""
            },
            "type": "mesh3d"
           }
          ],
          "parcoords": [
           {
            "line": {
             "colorbar": {
              "outlinewidth": 0,
              "ticks": ""
             }
            },
            "type": "parcoords"
           }
          ],
          "pie": [
           {
            "automargin": true,
            "type": "pie"
           }
          ],
          "scatter": [
           {
            "fillpattern": {
             "fillmode": "overlay",
             "size": 10,
             "solidity": 0.2
            },
            "type": "scatter"
           }
          ],
          "scatter3d": [
           {
            "line": {
             "colorbar": {
              "outlinewidth": 0,
              "ticks": ""
             }
            },
            "marker": {
             "colorbar": {
              "outlinewidth": 0,
              "ticks": ""
             }
            },
            "type": "scatter3d"
           }
          ],
          "scattercarpet": [
           {
            "marker": {
             "colorbar": {
              "outlinewidth": 0,
              "ticks": ""
             }
            },
            "type": "scattercarpet"
           }
          ],
          "scattergeo": [
           {
            "marker": {
             "colorbar": {
              "outlinewidth": 0,
              "ticks": ""
             }
            },
            "type": "scattergeo"
           }
          ],
          "scattergl": [
           {
            "marker": {
             "colorbar": {
              "outlinewidth": 0,
              "ticks": ""
             }
            },
            "type": "scattergl"
           }
          ],
          "scattermapbox": [
           {
            "marker": {
             "colorbar": {
              "outlinewidth": 0,
              "ticks": ""
             }
            },
            "type": "scattermapbox"
           }
          ],
          "scatterpolar": [
           {
            "marker": {
             "colorbar": {
              "outlinewidth": 0,
              "ticks": ""
             }
            },
            "type": "scatterpolar"
           }
          ],
          "scatterpolargl": [
           {
            "marker": {
             "colorbar": {
              "outlinewidth": 0,
              "ticks": ""
             }
            },
            "type": "scatterpolargl"
           }
          ],
          "scatterternary": [
           {
            "marker": {
             "colorbar": {
              "outlinewidth": 0,
              "ticks": ""
             }
            },
            "type": "scatterternary"
           }
          ],
          "surface": [
           {
            "colorbar": {
             "outlinewidth": 0,
             "ticks": ""
            },
            "colorscale": [
             [
              0,
              "#0d0887"
             ],
             [
              0.1111111111111111,
              "#46039f"
             ],
             [
              0.2222222222222222,
              "#7201a8"
             ],
             [
              0.3333333333333333,
              "#9c179e"
             ],
             [
              0.4444444444444444,
              "#bd3786"
             ],
             [
              0.5555555555555556,
              "#d8576b"
             ],
             [
              0.6666666666666666,
              "#ed7953"
             ],
             [
              0.7777777777777778,
              "#fb9f3a"
             ],
             [
              0.8888888888888888,
              "#fdca26"
             ],
             [
              1,
              "#f0f921"
             ]
            ],
            "type": "surface"
           }
          ],
          "table": [
           {
            "cells": {
             "fill": {
              "color": "#EBF0F8"
             },
             "line": {
              "color": "white"
             }
            },
            "header": {
             "fill": {
              "color": "#C8D4E3"
             },
             "line": {
              "color": "white"
             }
            },
            "type": "table"
           }
          ]
         },
         "layout": {
          "annotationdefaults": {
           "arrowcolor": "#2a3f5f",
           "arrowhead": 0,
           "arrowwidth": 1
          },
          "autotypenumbers": "strict",
          "coloraxis": {
           "colorbar": {
            "outlinewidth": 0,
            "ticks": ""
           }
          },
          "colorscale": {
           "diverging": [
            [
             0,
             "#8e0152"
            ],
            [
             0.1,
             "#c51b7d"
            ],
            [
             0.2,
             "#de77ae"
            ],
            [
             0.3,
             "#f1b6da"
            ],
            [
             0.4,
             "#fde0ef"
            ],
            [
             0.5,
             "#f7f7f7"
            ],
            [
             0.6,
             "#e6f5d0"
            ],
            [
             0.7,
             "#b8e186"
            ],
            [
             0.8,
             "#7fbc41"
            ],
            [
             0.9,
             "#4d9221"
            ],
            [
             1,
             "#276419"
            ]
           ],
           "sequential": [
            [
             0,
             "#0d0887"
            ],
            [
             0.1111111111111111,
             "#46039f"
            ],
            [
             0.2222222222222222,
             "#7201a8"
            ],
            [
             0.3333333333333333,
             "#9c179e"
            ],
            [
             0.4444444444444444,
             "#bd3786"
            ],
            [
             0.5555555555555556,
             "#d8576b"
            ],
            [
             0.6666666666666666,
             "#ed7953"
            ],
            [
             0.7777777777777778,
             "#fb9f3a"
            ],
            [
             0.8888888888888888,
             "#fdca26"
            ],
            [
             1,
             "#f0f921"
            ]
           ],
           "sequentialminus": [
            [
             0,
             "#0d0887"
            ],
            [
             0.1111111111111111,
             "#46039f"
            ],
            [
             0.2222222222222222,
             "#7201a8"
            ],
            [
             0.3333333333333333,
             "#9c179e"
            ],
            [
             0.4444444444444444,
             "#bd3786"
            ],
            [
             0.5555555555555556,
             "#d8576b"
            ],
            [
             0.6666666666666666,
             "#ed7953"
            ],
            [
             0.7777777777777778,
             "#fb9f3a"
            ],
            [
             0.8888888888888888,
             "#fdca26"
            ],
            [
             1,
             "#f0f921"
            ]
           ]
          },
          "colorway": [
           "#636efa",
           "#EF553B",
           "#00cc96",
           "#ab63fa",
           "#FFA15A",
           "#19d3f3",
           "#FF6692",
           "#B6E880",
           "#FF97FF",
           "#FECB52"
          ],
          "font": {
           "color": "#2a3f5f"
          },
          "geo": {
           "bgcolor": "white",
           "lakecolor": "white",
           "landcolor": "#E5ECF6",
           "showlakes": true,
           "showland": true,
           "subunitcolor": "white"
          },
          "hoverlabel": {
           "align": "left"
          },
          "hovermode": "closest",
          "mapbox": {
           "style": "light"
          },
          "paper_bgcolor": "white",
          "plot_bgcolor": "#E5ECF6",
          "polar": {
           "angularaxis": {
            "gridcolor": "white",
            "linecolor": "white",
            "ticks": ""
           },
           "bgcolor": "#E5ECF6",
           "radialaxis": {
            "gridcolor": "white",
            "linecolor": "white",
            "ticks": ""
           }
          },
          "scene": {
           "xaxis": {
            "backgroundcolor": "#E5ECF6",
            "gridcolor": "white",
            "gridwidth": 2,
            "linecolor": "white",
            "showbackground": true,
            "ticks": "",
            "zerolinecolor": "white"
           },
           "yaxis": {
            "backgroundcolor": "#E5ECF6",
            "gridcolor": "white",
            "gridwidth": 2,
            "linecolor": "white",
            "showbackground": true,
            "ticks": "",
            "zerolinecolor": "white"
           },
           "zaxis": {
            "backgroundcolor": "#E5ECF6",
            "gridcolor": "white",
            "gridwidth": 2,
            "linecolor": "white",
            "showbackground": true,
            "ticks": "",
            "zerolinecolor": "white"
           }
          },
          "shapedefaults": {
           "line": {
            "color": "#2a3f5f"
           }
          },
          "ternary": {
           "aaxis": {
            "gridcolor": "white",
            "linecolor": "white",
            "ticks": ""
           },
           "baxis": {
            "gridcolor": "white",
            "linecolor": "white",
            "ticks": ""
           },
           "bgcolor": "#E5ECF6",
           "caxis": {
            "gridcolor": "white",
            "linecolor": "white",
            "ticks": ""
           }
          },
          "title": {
           "x": 0.05
          },
          "xaxis": {
           "automargin": true,
           "gridcolor": "white",
           "linecolor": "white",
           "ticks": "",
           "title": {
            "standoff": 15
           },
           "zerolinecolor": "white",
           "zerolinewidth": 2
          },
          "yaxis": {
           "automargin": true,
           "gridcolor": "white",
           "linecolor": "white",
           "ticks": "",
           "title": {
            "standoff": 15
           },
           "zerolinecolor": "white",
           "zerolinewidth": 2
          }
         }
        }
       }
      },
      "text/html": [
       "<div>                            <div id=\"82479392-b18a-4ab8-82e4-42661db6a244\" class=\"plotly-graph-div\" style=\"height:525px; width:100%;\"></div>            <script type=\"text/javascript\">                require([\"plotly\"], function(Plotly) {                    window.PLOTLYENV=window.PLOTLYENV || {};                                    if (document.getElementById(\"82479392-b18a-4ab8-82e4-42661db6a244\")) {                    Plotly.newPlot(                        \"82479392-b18a-4ab8-82e4-42661db6a244\",                        [{\"hovertemplate\":\"size=%{x}<br>size_square=%{y}<br>price=%{marker.color}<extra></extra>\",\"legendgroup\":\"\",\"marker\":{\"color\":[-100.0,-190.725,-269.798,-337.218,-392.985,-437.099,-469.56,-490.369,-499.524,-497.027,-482.878,-457.075,-419.62,-370.511,-309.75,-237.337,-153.27,-57.5505,49.8216,168.847,299.524,441.855,595.838,761.474,938.763,1127.71,1328.3,1540.55,1764.45,2000.0],\"coloraxis\":\"coloraxis\",\"symbol\":\"circle\"},\"mode\":\"markers\",\"name\":\"\",\"scene\":\"scene\",\"showlegend\":false,\"x\":[30.0,32.4138,34.8276,37.2414,39.6552,42.069,44.4828,46.8966,49.3103,51.7241,54.1379,56.5517,58.9655,61.3793,63.7931,66.2069,68.6207,71.0345,73.4483,75.8621,78.2759,80.6897,83.1034,85.5172,87.931,90.3448,92.7586,95.1724,97.5862,100.0],\"y\":[900.0,1050.6544304400002,1212.9617217599998,1386.9218739599999,1572.53488704,1769.8007610000002,1978.7194958399998,2199.29109156,2431.50568609,2675.38252081,2930.9122164100004,3198.0947728899996,3476.9301902499997,3767.41846849,4069.5596076100005,4383.353607610001,4708.80046849,5045.9001902499995,5394.65277289,5755.05821641,6127.116520809999,6510.8276860900005,6906.175091559999,7313.19149584,7731.860761,8162.182887040001,8604.15787396,9057.78572176,9523.066430440002,10000.0],\"z\":[-100.0,-190.725,-269.798,-337.218,-392.985,-437.099,-469.56,-490.369,-499.524,-497.027,-482.878,-457.075,-419.62,-370.511,-309.75,-237.337,-153.27,-57.5505,49.8216,168.847,299.524,441.855,595.838,761.474,938.763,1127.71,1328.3,1540.55,1764.45,2000.0],\"type\":\"scatter3d\"}],                        {\"template\":{\"data\":{\"histogram2dcontour\":[{\"type\":\"histogram2dcontour\",\"colorbar\":{\"outlinewidth\":0,\"ticks\":\"\"},\"colorscale\":[[0.0,\"#0d0887\"],[0.1111111111111111,\"#46039f\"],[0.2222222222222222,\"#7201a8\"],[0.3333333333333333,\"#9c179e\"],[0.4444444444444444,\"#bd3786\"],[0.5555555555555556,\"#d8576b\"],[0.6666666666666666,\"#ed7953\"],[0.7777777777777778,\"#fb9f3a\"],[0.8888888888888888,\"#fdca26\"],[1.0,\"#f0f921\"]]}],\"choropleth\":[{\"type\":\"choropleth\",\"colorbar\":{\"outlinewidth\":0,\"ticks\":\"\"}}],\"histogram2d\":[{\"type\":\"histogram2d\",\"colorbar\":{\"outlinewidth\":0,\"ticks\":\"\"},\"colorscale\":[[0.0,\"#0d0887\"],[0.1111111111111111,\"#46039f\"],[0.2222222222222222,\"#7201a8\"],[0.3333333333333333,\"#9c179e\"],[0.4444444444444444,\"#bd3786\"],[0.5555555555555556,\"#d8576b\"],[0.6666666666666666,\"#ed7953\"],[0.7777777777777778,\"#fb9f3a\"],[0.8888888888888888,\"#fdca26\"],[1.0,\"#f0f921\"]]}],\"heatmap\":[{\"type\":\"heatmap\",\"colorbar\":{\"outlinewidth\":0,\"ticks\":\"\"},\"colorscale\":[[0.0,\"#0d0887\"],[0.1111111111111111,\"#46039f\"],[0.2222222222222222,\"#7201a8\"],[0.3333333333333333,\"#9c179e\"],[0.4444444444444444,\"#bd3786\"],[0.5555555555555556,\"#d8576b\"],[0.6666666666666666,\"#ed7953\"],[0.7777777777777778,\"#fb9f3a\"],[0.8888888888888888,\"#fdca26\"],[1.0,\"#f0f921\"]]}],\"heatmapgl\":[{\"type\":\"heatmapgl\",\"colorbar\":{\"outlinewidth\":0,\"ticks\":\"\"},\"colorscale\":[[0.0,\"#0d0887\"],[0.1111111111111111,\"#46039f\"],[0.2222222222222222,\"#7201a8\"],[0.3333333333333333,\"#9c179e\"],[0.4444444444444444,\"#bd3786\"],[0.5555555555555556,\"#d8576b\"],[0.6666666666666666,\"#ed7953\"],[0.7777777777777778,\"#fb9f3a\"],[0.8888888888888888,\"#fdca26\"],[1.0,\"#f0f921\"]]}],\"contourcarpet\":[{\"type\":\"contourcarpet\",\"colorbar\":{\"outlinewidth\":0,\"ticks\":\"\"}}],\"contour\":[{\"type\":\"contour\",\"colorbar\":{\"outlinewidth\":0,\"ticks\":\"\"},\"colorscale\":[[0.0,\"#0d0887\"],[0.1111111111111111,\"#46039f\"],[0.2222222222222222,\"#7201a8\"],[0.3333333333333333,\"#9c179e\"],[0.4444444444444444,\"#bd3786\"],[0.5555555555555556,\"#d8576b\"],[0.6666666666666666,\"#ed7953\"],[0.7777777777777778,\"#fb9f3a\"],[0.8888888888888888,\"#fdca26\"],[1.0,\"#f0f921\"]]}],\"surface\":[{\"type\":\"surface\",\"colorbar\":{\"outlinewidth\":0,\"ticks\":\"\"},\"colorscale\":[[0.0,\"#0d0887\"],[0.1111111111111111,\"#46039f\"],[0.2222222222222222,\"#7201a8\"],[0.3333333333333333,\"#9c179e\"],[0.4444444444444444,\"#bd3786\"],[0.5555555555555556,\"#d8576b\"],[0.6666666666666666,\"#ed7953\"],[0.7777777777777778,\"#fb9f3a\"],[0.8888888888888888,\"#fdca26\"],[1.0,\"#f0f921\"]]}],\"mesh3d\":[{\"type\":\"mesh3d\",\"colorbar\":{\"outlinewidth\":0,\"ticks\":\"\"}}],\"scatter\":[{\"fillpattern\":{\"fillmode\":\"overlay\",\"size\":10,\"solidity\":0.2},\"type\":\"scatter\"}],\"parcoords\":[{\"type\":\"parcoords\",\"line\":{\"colorbar\":{\"outlinewidth\":0,\"ticks\":\"\"}}}],\"scatterpolargl\":[{\"type\":\"scatterpolargl\",\"marker\":{\"colorbar\":{\"outlinewidth\":0,\"ticks\":\"\"}}}],\"bar\":[{\"error_x\":{\"color\":\"#2a3f5f\"},\"error_y\":{\"color\":\"#2a3f5f\"},\"marker\":{\"line\":{\"color\":\"#E5ECF6\",\"width\":0.5},\"pattern\":{\"fillmode\":\"overlay\",\"size\":10,\"solidity\":0.2}},\"type\":\"bar\"}],\"scattergeo\":[{\"type\":\"scattergeo\",\"marker\":{\"colorbar\":{\"outlinewidth\":0,\"ticks\":\"\"}}}],\"scatterpolar\":[{\"type\":\"scatterpolar\",\"marker\":{\"colorbar\":{\"outlinewidth\":0,\"ticks\":\"\"}}}],\"histogram\":[{\"marker\":{\"pattern\":{\"fillmode\":\"overlay\",\"size\":10,\"solidity\":0.2}},\"type\":\"histogram\"}],\"scattergl\":[{\"type\":\"scattergl\",\"marker\":{\"colorbar\":{\"outlinewidth\":0,\"ticks\":\"\"}}}],\"scatter3d\":[{\"type\":\"scatter3d\",\"line\":{\"colorbar\":{\"outlinewidth\":0,\"ticks\":\"\"}},\"marker\":{\"colorbar\":{\"outlinewidth\":0,\"ticks\":\"\"}}}],\"scattermapbox\":[{\"type\":\"scattermapbox\",\"marker\":{\"colorbar\":{\"outlinewidth\":0,\"ticks\":\"\"}}}],\"scatterternary\":[{\"type\":\"scatterternary\",\"marker\":{\"colorbar\":{\"outlinewidth\":0,\"ticks\":\"\"}}}],\"scattercarpet\":[{\"type\":\"scattercarpet\",\"marker\":{\"colorbar\":{\"outlinewidth\":0,\"ticks\":\"\"}}}],\"carpet\":[{\"aaxis\":{\"endlinecolor\":\"#2a3f5f\",\"gridcolor\":\"white\",\"linecolor\":\"white\",\"minorgridcolor\":\"white\",\"startlinecolor\":\"#2a3f5f\"},\"baxis\":{\"endlinecolor\":\"#2a3f5f\",\"gridcolor\":\"white\",\"linecolor\":\"white\",\"minorgridcolor\":\"white\",\"startlinecolor\":\"#2a3f5f\"},\"type\":\"carpet\"}],\"table\":[{\"cells\":{\"fill\":{\"color\":\"#EBF0F8\"},\"line\":{\"color\":\"white\"}},\"header\":{\"fill\":{\"color\":\"#C8D4E3\"},\"line\":{\"color\":\"white\"}},\"type\":\"table\"}],\"barpolar\":[{\"marker\":{\"line\":{\"color\":\"#E5ECF6\",\"width\":0.5},\"pattern\":{\"fillmode\":\"overlay\",\"size\":10,\"solidity\":0.2}},\"type\":\"barpolar\"}],\"pie\":[{\"automargin\":true,\"type\":\"pie\"}]},\"layout\":{\"autotypenumbers\":\"strict\",\"colorway\":[\"#636efa\",\"#EF553B\",\"#00cc96\",\"#ab63fa\",\"#FFA15A\",\"#19d3f3\",\"#FF6692\",\"#B6E880\",\"#FF97FF\",\"#FECB52\"],\"font\":{\"color\":\"#2a3f5f\"},\"hovermode\":\"closest\",\"hoverlabel\":{\"align\":\"left\"},\"paper_bgcolor\":\"white\",\"plot_bgcolor\":\"#E5ECF6\",\"polar\":{\"bgcolor\":\"#E5ECF6\",\"angularaxis\":{\"gridcolor\":\"white\",\"linecolor\":\"white\",\"ticks\":\"\"},\"radialaxis\":{\"gridcolor\":\"white\",\"linecolor\":\"white\",\"ticks\":\"\"}},\"ternary\":{\"bgcolor\":\"#E5ECF6\",\"aaxis\":{\"gridcolor\":\"white\",\"linecolor\":\"white\",\"ticks\":\"\"},\"baxis\":{\"gridcolor\":\"white\",\"linecolor\":\"white\",\"ticks\":\"\"},\"caxis\":{\"gridcolor\":\"white\",\"linecolor\":\"white\",\"ticks\":\"\"}},\"coloraxis\":{\"colorbar\":{\"outlinewidth\":0,\"ticks\":\"\"}},\"colorscale\":{\"sequential\":[[0.0,\"#0d0887\"],[0.1111111111111111,\"#46039f\"],[0.2222222222222222,\"#7201a8\"],[0.3333333333333333,\"#9c179e\"],[0.4444444444444444,\"#bd3786\"],[0.5555555555555556,\"#d8576b\"],[0.6666666666666666,\"#ed7953\"],[0.7777777777777778,\"#fb9f3a\"],[0.8888888888888888,\"#fdca26\"],[1.0,\"#f0f921\"]],\"sequentialminus\":[[0.0,\"#0d0887\"],[0.1111111111111111,\"#46039f\"],[0.2222222222222222,\"#7201a8\"],[0.3333333333333333,\"#9c179e\"],[0.4444444444444444,\"#bd3786\"],[0.5555555555555556,\"#d8576b\"],[0.6666666666666666,\"#ed7953\"],[0.7777777777777778,\"#fb9f3a\"],[0.8888888888888888,\"#fdca26\"],[1.0,\"#f0f921\"]],\"diverging\":[[0,\"#8e0152\"],[0.1,\"#c51b7d\"],[0.2,\"#de77ae\"],[0.3,\"#f1b6da\"],[0.4,\"#fde0ef\"],[0.5,\"#f7f7f7\"],[0.6,\"#e6f5d0\"],[0.7,\"#b8e186\"],[0.8,\"#7fbc41\"],[0.9,\"#4d9221\"],[1,\"#276419\"]]},\"xaxis\":{\"gridcolor\":\"white\",\"linecolor\":\"white\",\"ticks\":\"\",\"title\":{\"standoff\":15},\"zerolinecolor\":\"white\",\"automargin\":true,\"zerolinewidth\":2},\"yaxis\":{\"gridcolor\":\"white\",\"linecolor\":\"white\",\"ticks\":\"\",\"title\":{\"standoff\":15},\"zerolinecolor\":\"white\",\"automargin\":true,\"zerolinewidth\":2},\"scene\":{\"xaxis\":{\"backgroundcolor\":\"#E5ECF6\",\"gridcolor\":\"white\",\"linecolor\":\"white\",\"showbackground\":true,\"ticks\":\"\",\"zerolinecolor\":\"white\",\"gridwidth\":2},\"yaxis\":{\"backgroundcolor\":\"#E5ECF6\",\"gridcolor\":\"white\",\"linecolor\":\"white\",\"showbackground\":true,\"ticks\":\"\",\"zerolinecolor\":\"white\",\"gridwidth\":2},\"zaxis\":{\"backgroundcolor\":\"#E5ECF6\",\"gridcolor\":\"white\",\"linecolor\":\"white\",\"showbackground\":true,\"ticks\":\"\",\"zerolinecolor\":\"white\",\"gridwidth\":2}},\"shapedefaults\":{\"line\":{\"color\":\"#2a3f5f\"}},\"annotationdefaults\":{\"arrowcolor\":\"#2a3f5f\",\"arrowhead\":0,\"arrowwidth\":1},\"geo\":{\"bgcolor\":\"white\",\"landcolor\":\"#E5ECF6\",\"subunitcolor\":\"white\",\"showland\":true,\"showlakes\":true,\"lakecolor\":\"white\"},\"title\":{\"x\":0.05},\"mapbox\":{\"style\":\"light\"}}},\"scene\":{\"domain\":{\"x\":[0.0,1.0],\"y\":[0.0,1.0]},\"xaxis\":{\"title\":{\"text\":\"size\"}},\"yaxis\":{\"title\":{\"text\":\"size_square\"}},\"zaxis\":{\"title\":{\"text\":\"price\"}}},\"coloraxis\":{\"colorbar\":{\"title\":{\"text\":\"price\"}},\"colorscale\":[[0.0,\"#0d0887\"],[0.1111111111111111,\"#46039f\"],[0.2222222222222222,\"#7201a8\"],[0.3333333333333333,\"#9c179e\"],[0.4444444444444444,\"#bd3786\"],[0.5555555555555556,\"#d8576b\"],[0.6666666666666666,\"#ed7953\"],[0.7777777777777778,\"#fb9f3a\"],[0.8888888888888888,\"#fdca26\"],[1.0,\"#f0f921\"]]},\"legend\":{\"tracegroupgap\":0},\"margin\":{\"t\":60}},                        {\"responsive\": true}                    ).then(function(){\n",
       "                            \n",
       "var gd = document.getElementById('82479392-b18a-4ab8-82e4-42661db6a244');\n",
       "var x = new MutationObserver(function (mutations, observer) {{\n",
       "        var display = window.getComputedStyle(gd).display;\n",
       "        if (!display || display === 'none') {{\n",
       "            console.log([gd, 'removed!']);\n",
       "            Plotly.purge(gd);\n",
       "            observer.disconnect();\n",
       "        }}\n",
       "}});\n",
       "\n",
       "// Listen for the removal of the full notebook cells\n",
       "var notebookContainer = gd.closest('#notebook-container');\n",
       "if (notebookContainer) {{\n",
       "    x.observe(notebookContainer, {childList: true});\n",
       "}}\n",
       "\n",
       "// Listen for the clearing of the current output cell\n",
       "var outputEl = gd.closest('.output');\n",
       "if (outputEl) {{\n",
       "    x.observe(outputEl, {childList: true});\n",
       "}}\n",
       "\n",
       "                        })                };                });            </script>        </div>"
      ]
     },
     "metadata": {},
     "output_type": "display_data"
    }
   ],
   "source": [
    "import plotly.express as px\n",
    "\n",
    "# plotting 3-d plot\n",
    "fig = px.scatter_3d(data_square, x='size', y='size_square', z='price',\n",
    "              color='price') \n",
    "fig.show()"
   ]
  },
  {
   "cell_type": "code",
   "execution_count": 1199,
   "id": "2c282a48",
   "metadata": {},
   "outputs": [
    {
     "data": {
      "text/plain": [
       "matrix([[   30.        ,   900.        ],\n",
       "        [   32.4138    ,  1050.65443044],\n",
       "        [   34.8276    ,  1212.96172176],\n",
       "        [   37.2414    ,  1386.92187396],\n",
       "        [   39.6552    ,  1572.53488704],\n",
       "        [   42.069     ,  1769.800761  ],\n",
       "        [   44.4828    ,  1978.71949584],\n",
       "        [   46.8966    ,  2199.29109156],\n",
       "        [   49.3103    ,  2431.50568609],\n",
       "        [   51.7241    ,  2675.38252081],\n",
       "        [   54.1379    ,  2930.91221641],\n",
       "        [   56.5517    ,  3198.09477289],\n",
       "        [   58.9655    ,  3476.93019025],\n",
       "        [   61.3793    ,  3767.41846849],\n",
       "        [   63.7931    ,  4069.55960761],\n",
       "        [   66.2069    ,  4383.35360761],\n",
       "        [   68.6207    ,  4708.80046849],\n",
       "        [   71.0345    ,  5045.90019025],\n",
       "        [   73.4483    ,  5394.65277289],\n",
       "        [   75.8621    ,  5755.05821641],\n",
       "        [   78.2759    ,  6127.11652081],\n",
       "        [   80.6897    ,  6510.82768609],\n",
       "        [   83.1034    ,  6906.17509156],\n",
       "        [   85.5172    ,  7313.19149584],\n",
       "        [   87.931     ,  7731.860761  ],\n",
       "        [   90.3448    ,  8162.18288704],\n",
       "        [   92.7586    ,  8604.15787396],\n",
       "        [   95.1724    ,  9057.78572176],\n",
       "        [   97.5862    ,  9523.06643044],\n",
       "        [  100.        , 10000.        ]])"
      ]
     },
     "execution_count": 1199,
     "metadata": {},
     "output_type": "execute_result"
    }
   ],
   "source": [
    "X = np.matrix(np.array(data_square[[\"size\", \"size_square\"]]))\n",
    "X"
   ]
  },
  {
   "cell_type": "code",
   "execution_count": 1200,
   "id": "08bc0f3b",
   "metadata": {},
   "outputs": [
    {
     "data": {
      "text/plain": [
       "(30, 2)"
      ]
     },
     "execution_count": 1200,
     "metadata": {},
     "output_type": "execute_result"
    }
   ],
   "source": [
    "X.shape"
   ]
  },
  {
   "cell_type": "code",
   "execution_count": 1201,
   "id": "bbd7eb8e",
   "metadata": {},
   "outputs": [],
   "source": [
    "Y = np.array(data_square[\"price\"]).reshape(-1, 1)"
   ]
  },
  {
   "cell_type": "code",
   "execution_count": 1202,
   "id": "55b44979",
   "metadata": {},
   "outputs": [
    {
     "data": {
      "text/plain": [
       "array([[-100.    ],\n",
       "       [-190.725 ],\n",
       "       [-269.798 ],\n",
       "       [-337.218 ],\n",
       "       [-392.985 ],\n",
       "       [-437.099 ],\n",
       "       [-469.56  ],\n",
       "       [-490.369 ],\n",
       "       [-499.524 ],\n",
       "       [-497.027 ],\n",
       "       [-482.878 ],\n",
       "       [-457.075 ],\n",
       "       [-419.62  ],\n",
       "       [-370.511 ],\n",
       "       [-309.75  ],\n",
       "       [-237.337 ],\n",
       "       [-153.27  ],\n",
       "       [ -57.5505],\n",
       "       [  49.8216],\n",
       "       [ 168.847 ],\n",
       "       [ 299.524 ],\n",
       "       [ 441.855 ],\n",
       "       [ 595.838 ],\n",
       "       [ 761.474 ],\n",
       "       [ 938.763 ],\n",
       "       [1127.71  ],\n",
       "       [1328.3   ],\n",
       "       [1540.55  ],\n",
       "       [1764.45  ],\n",
       "       [2000.    ]])"
      ]
     },
     "execution_count": 1202,
     "metadata": {},
     "output_type": "execute_result"
    }
   ],
   "source": [
    "Y"
   ]
  },
  {
   "cell_type": "code",
   "execution_count": 1203,
   "id": "429c1c1c",
   "metadata": {},
   "outputs": [
    {
     "data": {
      "text/plain": [
       "(30, 1)"
      ]
     },
     "execution_count": 1203,
     "metadata": {},
     "output_type": "execute_result"
    }
   ],
   "source": [
    "Y.shape"
   ]
  },
  {
   "cell_type": "code",
   "execution_count": 1204,
   "id": "97788ed3",
   "metadata": {},
   "outputs": [],
   "source": [
    "MLR = LinearRegressionLR()"
   ]
  },
  {
   "cell_type": "code",
   "execution_count": 1205,
   "id": "dc6ac534",
   "metadata": {},
   "outputs": [],
   "source": [
    "MLR.fit_poly(np.asarray(data_square[\"size\"]), Y, 2)"
   ]
  },
  {
   "cell_type": "code",
   "execution_count": 1206,
   "id": "fcf5d2bb",
   "metadata": {},
   "outputs": [
    {
     "data": {
      "text/plain": [
       "matrix([[ 2.00000579e+03],\n",
       "        [-1.00000222e+02],\n",
       "        [ 1.00000199e+00]])"
      ]
     },
     "execution_count": 1206,
     "metadata": {},
     "output_type": "execute_result"
    }
   ],
   "source": [
    "MLR.coef()"
   ]
  },
  {
   "cell_type": "code",
   "execution_count": 1207,
   "id": "3875717a",
   "metadata": {},
   "outputs": [
    {
     "data": {
      "text/plain": [
       "matrix([[1100.00377165]])"
      ]
     },
     "execution_count": 1207,
     "metadata": {},
     "output_type": "execute_result"
    }
   ],
   "source": [
    "MLR.predict(np.matrix([[10, 100]]))"
   ]
  },
  {
   "cell_type": "code",
   "execution_count": 1208,
   "id": "affa55a5",
   "metadata": {},
   "outputs": [
    {
     "data": {
      "text/plain": [
       "array([[-100.00022214,    1.00000199]])"
      ]
     },
     "execution_count": 1208,
     "metadata": {},
     "output_type": "execute_result"
    }
   ],
   "source": [
    "# Double check with sklearn\n",
    "from sklearn.linear_model import LinearRegression\n",
    "reg = LinearRegression().fit(X, Y)\n",
    "# reg.score(X, Y)\n",
    "reg.coef_"
   ]
  },
  {
   "cell_type": "code",
   "execution_count": 1209,
   "id": "ec7873d8",
   "metadata": {},
   "outputs": [
    {
     "data": {
      "text/plain": [
       "array([2000.00579425])"
      ]
     },
     "execution_count": 1209,
     "metadata": {},
     "output_type": "execute_result"
    }
   ],
   "source": [
    "reg.intercept_"
   ]
  },
  {
   "cell_type": "code",
   "execution_count": 1210,
   "id": "af75cf94",
   "metadata": {},
   "outputs": [
    {
     "data": {
      "text/plain": [
       "array([[1100.00377165]])"
      ]
     },
     "execution_count": 1210,
     "metadata": {},
     "output_type": "execute_result"
    }
   ],
   "source": [
    "reg.predict([[10, 100]])"
   ]
  },
  {
   "cell_type": "code",
   "execution_count": 1211,
   "id": "4fbba2c0",
   "metadata": {},
   "outputs": [
    {
     "name": "stdout",
     "output_type": "stream",
     "text": [
      "[[   0.         -100.00022214    1.00000199]]\n",
      "[2000.00579425]\n"
     ]
    }
   ],
   "source": [
    "# Double check the 2nd time with sklearn\n",
    "X = np.asarray(data_square[\"size\"]).reshape(-1, 1)\n",
    "y = Y\n",
    "\n",
    "from sklearn.linear_model import LinearRegression\n",
    "lin = LinearRegression()\n",
    "  \n",
    "lin.fit(X, y)\n",
    "\n",
    "from sklearn.preprocessing import PolynomialFeatures\n",
    "\n",
    "poly = PolynomialFeatures(degree = 2)\n",
    "X_poly = poly.fit_transform(X)\n",
    "  \n",
    "poly.fit(X_poly, y)\n",
    "lin2 = LinearRegression()\n",
    "lin2.fit(X_poly, y)\n",
    "print(lin2.coef_)\n",
    "print(lin2.intercept_)\n"
   ]
  },
  {
   "cell_type": "markdown",
   "id": "c25dda4c",
   "metadata": {},
   "source": [
    "# Ex2."
   ]
  },
  {
   "cell_type": "markdown",
   "id": "f9f06937",
   "metadata": {},
   "source": [
    "Tự sinh dữ liệu như ở hình dưới:\n",
    "\n",
    "a. fit đa thức bậc 0, 1, 3, 6, 9, vẽ mô hình và nhận xét mô hình\n",
    "\n",
    "b. thêm 15, 100 điểm dữ liệu cho đa thức bậc 9, nhận xét mức độ overfitting\n",
    "\n",
    "c. fit đa thức bậc 9 cho 10 điểm dữ liệu ban đầu nhưng dùng Ridge và Lasso để tránh overfittin"
   ]
  },
  {
   "attachments": {
    "image.png": {
     "image/png": "[encoded data removed]"
    }
   },
   "cell_type": "markdown",
   "id": "2a8928f7",
   "metadata": {},
   "source": [
    "![image.png](attachment:image.png)"
   ]
  },
  {
   "cell_type": "markdown",
   "id": "5f464ac0",
   "metadata": {},
   "source": [
    "## a."
   ]
  },
  {
   "cell_type": "code",
   "execution_count": 1237,
   "id": "cd6d1ed1",
   "metadata": {},
   "outputs": [
    {
     "data": {
      "text/plain": [
       "array([0.54529137, 0.13131252, 0.02518791, 0.4635584 , 0.16449307,\n",
       "       0.65556267, 0.80796241, 0.87765567, 0.51387904, 0.91707887])"
      ]
     },
     "execution_count": 1237,
     "metadata": {},
     "output_type": "execute_result"
    }
   ],
   "source": [
    "x = np.random.uniform(0,1,10)\n",
    "x"
   ]
  },
  {
   "cell_type": "code",
   "execution_count": 1238,
   "id": "4a4ff334",
   "metadata": {},
   "outputs": [
    {
     "data": {
      "text/plain": [
       "array([-0.55149463,  0.475345  ,  0.0302855 ,  0.07605406,  1.01924938,\n",
       "       -0.78030911, -1.15640214, -1.27387953,  0.19525355, -0.5591904 ])"
      ]
     },
     "execution_count": 1238,
     "metadata": {},
     "output_type": "execute_result"
    }
   ],
   "source": [
    "t = [np.sin(np.pi * 2 * each) + np.random.normal(0, 0.3) for each in x]\n",
    "t = np.array(t)\n",
    "t"
   ]
  },
  {
   "cell_type": "code",
   "execution_count": 1239,
   "id": "41245de8",
   "metadata": {},
   "outputs": [
    {
     "data": {
      "text/plain": [
       "array([[-0.55149463],\n",
       "       [ 0.475345  ],\n",
       "       [ 0.0302855 ],\n",
       "       [ 0.07605406],\n",
       "       [ 1.01924938],\n",
       "       [-0.78030911],\n",
       "       [-1.15640214],\n",
       "       [-1.27387953],\n",
       "       [ 0.19525355],\n",
       "       [-0.5591904 ]])"
      ]
     },
     "execution_count": 1239,
     "metadata": {},
     "output_type": "execute_result"
    }
   ],
   "source": [
    "t = t.reshape(-1, 1)\n",
    "t"
   ]
  },
  {
   "cell_type": "code",
   "execution_count": 1240,
   "id": "eba1c024",
   "metadata": {},
   "outputs": [
    {
     "data": {
      "text/plain": [
       "(10, 1)"
      ]
     },
     "execution_count": 1240,
     "metadata": {},
     "output_type": "execute_result"
    }
   ],
   "source": [
    "t.shape"
   ]
  },
  {
   "cell_type": "code",
   "execution_count": 1241,
   "id": "99a0923b",
   "metadata": {},
   "outputs": [
    {
     "data": {
      "image/png": "[encoded data removed]",
      "text/plain": [
       "<Figure size 432x288 with 1 Axes>"
      ]
     },
     "metadata": {
      "needs_background": "light"
     },
     "output_type": "display_data"
    },
    {
     "data": {
      "image/png": "[encoded data removed]",
      "text/plain": [
       "<Figure size 432x288 with 1 Axes>"
      ]
     },
     "metadata": {
      "needs_background": "light"
     },
     "output_type": "display_data"
    },
    {
     "data": {
      "image/png": "[encoded data removed]",
      "text/plain": [
       "<Figure size 432x288 with 1 Axes>"
      ]
     },
     "metadata": {
      "needs_background": "light"
     },
     "output_type": "display_data"
    },
    {
     "data": {
      "image/png": "[encoded data removed]",
      "text/plain": [
       "<Figure size 432x288 with 1 Axes>"
      ]
     },
     "metadata": {
      "needs_background": "light"
     },
     "output_type": "display_data"
    },
    {
     "data": {
      "image/png": "[encoded data removed]",
      "text/plain": [
       "<Figure size 432x288 with 1 Axes>"
      ]
     },
     "metadata": {
      "needs_background": "light"
     },
     "output_type": "display_data"
    }
   ],
   "source": [
    "for i in [1, 0, 3, 6, 9]:\n",
    "    LR = LinearRegressionLR()\n",
    "    LR.fit_poly(x, t, i)\n",
    "    LR.plot_model_polynomial()"
   ]
  },
  {
   "cell_type": "code",
   "execution_count": 1217,
   "id": "e3870e04",
   "metadata": {},
   "outputs": [
    {
     "name": "stdout",
     "output_type": "stream",
     "text": [
      "\n",
      "The constant (M = 0) and first order (M = 1) polynomials are poor fits to the data and consequently \n",
      "rather poor representations of the function sin(2πx). \n",
      "\n",
      "The third order (M = 3) polynomial seems to give the best fit to the function sin(2πx)!\n",
      "\n",
      "When we go to a much higher order polynomial, (M = 6 or M = 9), we obtain an excellent fit to the training\n",
      "data. In fact, the polynomial with M = 9 passes exactly through each data point and E(w*) = 0.\n",
      "However, the fitted curve varies so much and gives a very poor representation of\n",
      "the function sin(2πx). This is over-fitting.\n",
      "\n"
     ]
    }
   ],
   "source": [
    "# Comments:\n",
    "print(\n",
    "\"\"\"\n",
    "The constant (M = 0) and first order (M = 1) polynomials are poor fits to the data and consequently \n",
    "rather poor representations of the function sin(2πx). \n",
    "\n",
    "The third order (M = 3) polynomial seems to give the best fit to the function sin(2πx)!\n",
    "\n",
    "When we go to a much higher order polynomial, (M = 6 or M = 9), we obtain an excellent fit to the training\n",
    "data. In fact, the polynomial with M = 9 passes exactly through each data point and E(w*) = 0.\n",
    "However, the fitted curve varies so much and gives a very poor representation of\n",
    "the function sin(2πx). This is over-fitting.\n",
    "\"\"\")\n",
    "# End of comments"
   ]
  },
  {
   "cell_type": "code",
   "execution_count": 1218,
   "id": "63a15d7b",
   "metadata": {},
   "outputs": [],
   "source": [
    "# Double check with sklearn:"
   ]
  },
  {
   "cell_type": "code",
   "execution_count": 1242,
   "id": "e4dc82dd",
   "metadata": {},
   "outputs": [
    {
     "name": "stdout",
     "output_type": "stream",
     "text": [
      "[[ 5.17526768e+01]\n",
      " [-3.21495087e+03]\n",
      " [ 5.65667834e+04]\n",
      " [-4.57695199e+05]\n",
      " [ 2.01200884e+06]\n",
      " [-5.21080819e+06]\n",
      " [ 8.18824280e+06]\n",
      " [-7.67981926e+06]\n",
      " [ 3.95609621e+06]\n",
      " [-8.61520791e+05]]\n"
     ]
    }
   ],
   "source": [
    "LR = LinearRegressionLR()\n",
    "LR.fit_poly(x, t, 9)\n",
    "print(LR.coef())"
   ]
  },
  {
   "cell_type": "code",
   "execution_count": 1243,
   "id": "50970460",
   "metadata": {},
   "outputs": [
    {
     "name": "stdout",
     "output_type": "stream",
     "text": [
      "[[ 0.00000000e+00 -3.27624964e+03  5.76482664e+04 -4.66505742e+05\n",
      "   2.05097850e+06 -5.31223419e+06  8.34829095e+06 -7.83049628e+06\n",
      "   4.03399129e+06 -8.78543272e+05]]\n",
      "[52.6593342]\n"
     ]
    }
   ],
   "source": [
    "from sklearn.preprocessing import PolynomialFeatures\n",
    "\n",
    "poly = PolynomialFeatures(degree = 9)\n",
    "X_poly = poly.fit_transform(x.reshape(-1, 1))\n",
    "  \n",
    "poly.fit(X_poly,t)\n",
    "lin2 = LinearRegression()\n",
    "lin2.fit(X_poly, t)\n",
    "print(lin2.coef_)\n",
    "print(lin2.intercept_)\n"
   ]
  },
  {
   "cell_type": "markdown",
   "id": "4d6c7037",
   "metadata": {},
   "source": [
    "## b."
   ]
  },
  {
   "cell_type": "code",
   "execution_count": 1221,
   "id": "2164e74d",
   "metadata": {},
   "outputs": [],
   "source": [
    "# n = 15"
   ]
  },
  {
   "cell_type": "code",
   "execution_count": 1222,
   "id": "9d6e1789",
   "metadata": {},
   "outputs": [],
   "source": [
    "x = np.random.uniform(0,1,15)\n",
    "t = [np.sin(np.pi * 2 * each) + np.random.normal(0, 0.3) for each in x]\n",
    "t = np.array(t)\n",
    "t = t.reshape(-1, 1)"
   ]
  },
  {
   "cell_type": "code",
   "execution_count": 1223,
   "id": "2ea23501",
   "metadata": {},
   "outputs": [
    {
     "data": {
      "image/png": "[encoded data removed]",
      "text/plain": [
       "<Figure size 432x288 with 1 Axes>"
      ]
     },
     "metadata": {
      "needs_background": "light"
     },
     "output_type": "display_data"
    }
   ],
   "source": [
    "LR = LinearRegressionLR()\n",
    "LR.fit_poly(x, t, 9)\n",
    "LR.plot_model_polynomial()"
   ]
  },
  {
   "cell_type": "code",
   "execution_count": 1224,
   "id": "1fd85952",
   "metadata": {},
   "outputs": [],
   "source": [
    "# n = 100"
   ]
  },
  {
   "cell_type": "code",
   "execution_count": 1225,
   "id": "c9174ca9",
   "metadata": {},
   "outputs": [],
   "source": [
    "x = np.random.uniform(0,1,100)\n",
    "t = [np.sin(np.pi * 2 * each) + np.random.normal(0, 0.3) for each in x]\n",
    "t = np.array(t)\n",
    "t = t.reshape(-1, 1)"
   ]
  },
  {
   "cell_type": "code",
   "execution_count": 1226,
   "id": "356a2737",
   "metadata": {},
   "outputs": [
    {
     "data": {
      "image/png": "[encoded data removed]",
      "text/plain": [
       "<Figure size 432x288 with 1 Axes>"
      ]
     },
     "metadata": {
      "needs_background": "light"
     },
     "output_type": "display_data"
    }
   ],
   "source": [
    "LR = LinearRegressionLR()\n",
    "LR.fit_poly(x, t, 9)\n",
    "LR.plot_model_polynomial()"
   ]
  },
  {
   "cell_type": "code",
   "execution_count": 1227,
   "id": "a88bf305",
   "metadata": {},
   "outputs": [
    {
     "name": "stdout",
     "output_type": "stream",
     "text": [
      "\n",
      "Plot M = 9 polynomial for N = 15 data points and N = 100 data points. We see that increasing the\n",
      "size of the data set reduces the over-fitting problem. When N = 100, we see that, the overfitting problem is nearly solved.\n",
      "\n",
      "We see that, for a given model complexity, the over-fitting problem become less severe\n",
      "as the size of the data set increases. Another way to say this is that the larger the data set, the more\n",
      "complex (in other words more flexible) the model that we can afford to fit to the data.\n",
      "\n"
     ]
    }
   ],
   "source": [
    "# Comments of overfitting problem:\n",
    "print(\"\"\"\n",
    "Plot M = 9 polynomial for N = 15 data points and N = 100 data points. We see that increasing the\n",
    "size of the data set reduces the over-fitting problem. When N = 100, we see that, the overfitting problem is nearly solved.\n",
    "\n",
    "We see that, for a given model complexity, the over-fitting problem become less severe\n",
    "as the size of the data set increases. Another way to say this is that the larger the data set, the more\n",
    "complex (in other words more flexible) the model that we can afford to fit to the data.\n",
    "\"\"\"\n",
    ")"
   ]
  },
  {
   "cell_type": "markdown",
   "id": "70e7303a",
   "metadata": {},
   "source": [
    "## c."
   ]
  },
  {
   "cell_type": "markdown",
   "id": "13f9e230",
   "metadata": {},
   "source": [
    "### Ridge"
   ]
  },
  {
   "cell_type": "code",
   "execution_count": 1246,
   "id": "41feef92",
   "metadata": {},
   "outputs": [],
   "source": [
    "x = np.random.uniform(0,1,10)\n",
    "t = [np.sin(np.pi * 2 * each) + np.random.normal(0, 0.3) for each in x]\n",
    "t = np.array(t)\n",
    "t = t.reshape(-1, 1)"
   ]
  },
  {
   "cell_type": "code",
   "execution_count": 1247,
   "id": "7d0e9f69",
   "metadata": {},
   "outputs": [],
   "source": [
    "# Without ridge"
   ]
  },
  {
   "cell_type": "code",
   "execution_count": 1248,
   "id": "c15f72c8",
   "metadata": {},
   "outputs": [
    {
     "name": "stdout",
     "output_type": "stream",
     "text": [
      "[[ 2.45547066e+01]\n",
      " [-1.40609412e+03]\n",
      " [ 2.33578912e+04]\n",
      " [-1.71109476e+05]\n",
      " [ 6.01577946e+05]\n",
      " [-7.84664563e+05]\n",
      " [-9.80573655e+05]\n",
      " [ 4.34177630e+06]\n",
      " [-4.89824941e+06]\n",
      " [ 1.88208770e+06]]\n"
     ]
    },
    {
     "data": {
      "image/png": "[encoded data removed]",
      "text/plain": [
       "<Figure size 432x288 with 1 Axes>"
      ]
     },
     "metadata": {
      "needs_background": "light"
     },
     "output_type": "display_data"
    }
   ],
   "source": [
    "LR = LinearRegressionLR()\n",
    "LR.fit_poly(x, t, 9)\n",
    "print(LR.coef())\n",
    "LR.plot_model_polynomial()"
   ]
  },
  {
   "cell_type": "code",
   "execution_count": 1249,
   "id": "843eb463",
   "metadata": {},
   "outputs": [],
   "source": [
    "# With Ridge"
   ]
  },
  {
   "cell_type": "code",
   "execution_count": 1250,
   "id": "5f43aeb0",
   "metadata": {},
   "outputs": [
    {
     "name": "stdout",
     "output_type": "stream",
     "text": [
      "[[ -0.05465322]\n",
      " [  8.87131455]\n",
      " [-15.21643312]\n",
      " [ -8.62963084]\n",
      " [  2.66706306]\n",
      " [  7.72217147]\n",
      " [  7.2123798 ]\n",
      " [  3.93325903]\n",
      " [ -0.06114018]\n",
      " [ -3.69594223]]\n"
     ]
    },
    {
     "data": {
      "image/png": "[encoded data removed]",
      "text/plain": [
       "<Figure size 432x288 with 1 Axes>"
      ]
     },
     "metadata": {
      "needs_background": "light"
     },
     "output_type": "display_data"
    }
   ],
   "source": [
    "LR = LinearRegressionLR()\n",
    "LR.fit_poly(x, t, 9, ridge = \"Y\")\n",
    "print(LR.coef())\n",
    "LR.plot_model_polynomial()"
   ]
  },
  {
   "cell_type": "code",
   "execution_count": 1251,
   "id": "e39d884b",
   "metadata": {},
   "outputs": [],
   "source": [
    "# Double check with sklearn\n",
    "features = [x]\n",
    "for i in range(1, 9):\n",
    "        features.append(x ** (i + 1))\n",
    "        \n",
    "# Construct the A matrix\n",
    "X = np.transpose(np.matrix([each for each in features]))\n",
    "#print(X.shape)"
   ]
  },
  {
   "cell_type": "code",
   "execution_count": 1252,
   "id": "af2543c1",
   "metadata": {},
   "outputs": [
    {
     "data": {
      "text/plain": [
       "Ridge(alpha=0.0001)"
      ]
     },
     "execution_count": 1252,
     "metadata": {},
     "output_type": "execute_result"
    }
   ],
   "source": [
    "from sklearn.linear_model import Ridge\n",
    "# define model\n",
    "model = Ridge(alpha=0.0001)\n",
    "# fit model\n",
    "model.fit(X, t)"
   ]
  },
  {
   "cell_type": "code",
   "execution_count": 1253,
   "id": "c281d78d",
   "metadata": {},
   "outputs": [
    {
     "data": {
      "text/plain": [
       "array([[  8.8713809 , -15.21659778,  -8.62954209,   2.66712563,\n",
       "          7.7221781 ,   7.21235887,   3.93323513,  -0.06115461,\n",
       "         -3.69594333]])"
      ]
     },
     "execution_count": 1253,
     "metadata": {},
     "output_type": "execute_result"
    }
   ],
   "source": [
    "model.coef_"
   ]
  },
  {
   "cell_type": "code",
   "execution_count": 1254,
   "id": "41fec95b",
   "metadata": {},
   "outputs": [
    {
     "data": {
      "text/plain": [
       "array([-0.05466061])"
      ]
     },
     "execution_count": 1254,
     "metadata": {},
     "output_type": "execute_result"
    }
   ],
   "source": [
    "model.intercept_"
   ]
  },
  {
   "cell_type": "markdown",
   "id": "5cd30eb7",
   "metadata": {},
   "source": [
    "### Lasso"
   ]
  },
  {
   "attachments": {
    "image.png": {
     "image/png": "[encoded data removed]"
    }
   },
   "cell_type": "markdown",
   "id": "edbe8305",
   "metadata": {},
   "source": [
    "![image.png](attachment:image.png)"
   ]
  },
  {
   "cell_type": "code",
   "execution_count": 1235,
   "id": "12d15de4",
   "metadata": {},
   "outputs": [],
   "source": [
    "x = np.random.uniform(0,1,10)\n",
    "t = [np.sin(np.pi * 2 * each) + np.random.normal(0, 0.3) for each in x]\n",
    "t = np.array(t)\n",
    "t = t.reshape(-1, 1)"
   ]
  },
  {
   "cell_type": "code",
   "execution_count": 1255,
   "id": "3dd29be2",
   "metadata": {},
   "outputs": [],
   "source": [
    "# With Lasso"
   ]
  },
  {
   "cell_type": "code",
   "execution_count": 1236,
   "id": "7cb43510",
   "metadata": {},
   "outputs": [
    {
     "name": "stdout",
     "output_type": "stream",
     "text": [
      "[ 0.99105932 -0.7458606  -1.77513803 -1.20751449 -0.44248548  0.09799568\n",
      "  0.53687317  0.82993278  1.00908864  1.10471023]\n"
     ]
    },
    {
     "data": {
      "image/png": "[encoded data removed]",
      "text/plain": [
       "<Figure size 432x288 with 1 Axes>"
      ]
     },
     "metadata": {
      "needs_background": "light"
     },
     "output_type": "display_data"
    }
   ],
   "source": [
    "LR = LinearRegressionLR()\n",
    "LR.fit_poly(x, t, 9, lasso = \"Y\")\n",
    "print(LR.coef())\n",
    "LR.plot_model_polynomial(lasso= \"Y\")"
   ]
  },
  {
   "cell_type": "code",
   "execution_count": null,
   "id": "d7606be9",
   "metadata": {},
   "outputs": [],
   "source": []
  }
 ],
 "metadata": {
  "kernelspec": {
   "display_name": "Python 3 (ipykernel)",
   "language": "python",
   "name": "python3"
  },
  "language_info": {
   "codemirror_mode": {
    "name": "ipython",
    "version": 3
   },
   "file_extension": ".py",
   "mimetype": "text/x-python",
   "name": "python",
   "nbconvert_exporter": "python",
   "pygments_lexer": "ipython3",
   "version": "3.9.7"
  }
 },
 "nbformat": 4,
 "nbformat_minor": 5
}
