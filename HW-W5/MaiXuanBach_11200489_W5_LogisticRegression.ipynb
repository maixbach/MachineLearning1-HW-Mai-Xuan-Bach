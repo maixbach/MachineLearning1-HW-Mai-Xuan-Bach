{
 "cells": [
  {
   "cell_type": "code",
   "execution_count": 233,
   "id": "97dba7ce",
   "metadata": {},
   "outputs": [],
   "source": [
    "# Full name: Mai Xuan Bach\n",
    "# ID: 11200489"
   ]
  },
  {
   "cell_type": "code",
   "execution_count": 234,
   "id": "180ae150",
   "metadata": {},
   "outputs": [],
   "source": [
    "import pandas as pd\n",
    "import numpy as np\n",
    "import matplotlib.pyplot as plt"
   ]
  },
  {
   "cell_type": "markdown",
   "id": "09631ee0",
   "metadata": {},
   "source": [
    "## EX2."
   ]
  },
  {
   "cell_type": "code",
   "execution_count": 235,
   "id": "8e71a0df",
   "metadata": {},
   "outputs": [],
   "source": [
    "def sigmoid(x):\n",
    "    return 1 / (1 + np.exp(-x))"
   ]
  },
  {
   "cell_type": "code",
   "execution_count": 236,
   "id": "1f03220a",
   "metadata": {},
   "outputs": [],
   "source": [
    "class LogisticRegressionLR:\n",
    "    def __init__(self):\n",
    "        pass\n",
    "        \n",
    "    def fit(self, X, Y):\n",
    "        '''Fit the logistic regression model\n",
    "        X: A matrix whose columns are the independent variables\n",
    "        Y: A/an matrix/array, which is the dependent variable\n",
    "        '''\n",
    "        # Add an only-ones-column to X\n",
    "        self._original_X = X\n",
    "        self._X = np.insert(X, 0, [1] * X.shape[0], axis = 1)\n",
    "        \n",
    "        # Reshape Y to the right shape\n",
    "        self._Y = np.array(Y).reshape(-1, 1)\n",
    "        \n",
    "        # Find W using gradient descent\n",
    "            # Initial W, lr (alpha), epsilon\n",
    "        learning_rate = 0.01\n",
    "        self._W = np.transpose(np.matrix(np.zeros(self._X.shape[1])))\n",
    "        iterations = 1000\n",
    "       \n",
    "        for i in range(1, iterations):\n",
    "            # Calculate gradient at each step\n",
    "            y_hat =  sigmoid(np.matmul(self._X, self._W))\n",
    "            grad = np.matmul(np.transpose(self._X), (y_hat - self._Y))\n",
    "\n",
    "            # Update W\n",
    "            self._W = self._W - learning_rate * grad\n",
    "\n",
    "        return self._W\n",
    "    \n",
    "    def coef(self):\n",
    "        \"Return the coefficients (matrix W)\"\n",
    "        return self._W\n",
    "    \n",
    "    def plot_model(self):\n",
    "        \"Plot model only for logistic regression\"\n",
    "        # Scatter each data point\n",
    "        plt.scatter(np.array(self._original_X[:10, 0]), np.array(self._original_X[:10, 1]), c='green', edgecolors='none', s=30, label='Accept loan')\n",
    "        plt.scatter(np.array(self._original_X[10:, 0]), np.array(self._original_X[10:, 1]), c='red', edgecolors='none', s=30, label='Reject loan')\n",
    "        plt.legend(loc=1)\n",
    "        plt.xlabel('Salary')\n",
    "        plt.ylabel('Experience')\n",
    "\n",
    "        # Draw boundary line\n",
    "        t = 0.5\n",
    "        x1_min, x1_max = np.min(self._original_X[:, 0]), np.max(self._original_X[:, 0])\n",
    "        y_min = float(-(self._W[0,:]+x1_min*self._W[1,:]+ np.log(1/t-1))/self._W[2,:])\n",
    "        y_max = float(-(self._W[0,:] + x1_max*self._W[1,:]+ np.log(1/t-1))/self._W[2,:])\n",
    "        plt.plot((x1_min, x1_max),(y_min, y_max), 'b')\n",
    "        \n",
    "        plt.show()\n",
    "    \n",
    "    def predict(self, new_X):\n",
    "        \"\"\"Predict new value\n",
    "        new_X: A new matrix of X to predict new Y\"\"\"\n",
    "        \n",
    "        # Add an only-ones-column to X\n",
    "        new_X = np.insert(new_X, 0, [1] * new_X.shape[0], axis = 1)\n",
    "        xTw = np.matmul(new_X, self._W)\n",
    "        if sigmoid(xTw) > 0.5:\n",
    "            return 1\n",
    "        else:\n",
    "            return 0\n",
    "    "
   ]
  },
  {
   "cell_type": "code",
   "execution_count": 237,
   "id": "9edf8051",
   "metadata": {},
   "outputs": [
    {
     "data": {
      "text/html": [
       "<div>\n",
       "<style scoped>\n",
       "    .dataframe tbody tr th:only-of-type {\n",
       "        vertical-align: middle;\n",
       "    }\n",
       "\n",
       "    .dataframe tbody tr th {\n",
       "        vertical-align: top;\n",
       "    }\n",
       "\n",
       "    .dataframe thead th {\n",
       "        text-align: right;\n",
       "    }\n",
       "</style>\n",
       "<table border=\"1\" class=\"dataframe\">\n",
       "  <thead>\n",
       "    <tr style=\"text-align: right;\">\n",
       "      <th></th>\n",
       "      <th>Lương</th>\n",
       "      <th>Thời gian làm việc</th>\n",
       "      <th>Cho vay</th>\n",
       "    </tr>\n",
       "  </thead>\n",
       "  <tbody>\n",
       "    <tr>\n",
       "      <th>0</th>\n",
       "      <td>10</td>\n",
       "      <td>1.00</td>\n",
       "      <td>1</td>\n",
       "    </tr>\n",
       "    <tr>\n",
       "      <th>1</th>\n",
       "      <td>5</td>\n",
       "      <td>2.00</td>\n",
       "      <td>1</td>\n",
       "    </tr>\n",
       "    <tr>\n",
       "      <th>2</th>\n",
       "      <td>6</td>\n",
       "      <td>1.80</td>\n",
       "      <td>1</td>\n",
       "    </tr>\n",
       "    <tr>\n",
       "      <th>3</th>\n",
       "      <td>7</td>\n",
       "      <td>1.00</td>\n",
       "      <td>1</td>\n",
       "    </tr>\n",
       "    <tr>\n",
       "      <th>4</th>\n",
       "      <td>8</td>\n",
       "      <td>2.00</td>\n",
       "      <td>1</td>\n",
       "    </tr>\n",
       "    <tr>\n",
       "      <th>5</th>\n",
       "      <td>9</td>\n",
       "      <td>0.50</td>\n",
       "      <td>1</td>\n",
       "    </tr>\n",
       "    <tr>\n",
       "      <th>6</th>\n",
       "      <td>4</td>\n",
       "      <td>3.00</td>\n",
       "      <td>1</td>\n",
       "    </tr>\n",
       "    <tr>\n",
       "      <th>7</th>\n",
       "      <td>5</td>\n",
       "      <td>2.50</td>\n",
       "      <td>1</td>\n",
       "    </tr>\n",
       "    <tr>\n",
       "      <th>8</th>\n",
       "      <td>8</td>\n",
       "      <td>1.00</td>\n",
       "      <td>1</td>\n",
       "    </tr>\n",
       "    <tr>\n",
       "      <th>9</th>\n",
       "      <td>4</td>\n",
       "      <td>2.50</td>\n",
       "      <td>1</td>\n",
       "    </tr>\n",
       "    <tr>\n",
       "      <th>10</th>\n",
       "      <td>8</td>\n",
       "      <td>0.10</td>\n",
       "      <td>0</td>\n",
       "    </tr>\n",
       "    <tr>\n",
       "      <th>11</th>\n",
       "      <td>7</td>\n",
       "      <td>0.15</td>\n",
       "      <td>0</td>\n",
       "    </tr>\n",
       "    <tr>\n",
       "      <th>12</th>\n",
       "      <td>4</td>\n",
       "      <td>1.00</td>\n",
       "      <td>0</td>\n",
       "    </tr>\n",
       "    <tr>\n",
       "      <th>13</th>\n",
       "      <td>5</td>\n",
       "      <td>0.80</td>\n",
       "      <td>0</td>\n",
       "    </tr>\n",
       "    <tr>\n",
       "      <th>14</th>\n",
       "      <td>7</td>\n",
       "      <td>0.30</td>\n",
       "      <td>0</td>\n",
       "    </tr>\n",
       "    <tr>\n",
       "      <th>15</th>\n",
       "      <td>4</td>\n",
       "      <td>1.00</td>\n",
       "      <td>0</td>\n",
       "    </tr>\n",
       "    <tr>\n",
       "      <th>16</th>\n",
       "      <td>5</td>\n",
       "      <td>0.50</td>\n",
       "      <td>0</td>\n",
       "    </tr>\n",
       "    <tr>\n",
       "      <th>17</th>\n",
       "      <td>6</td>\n",
       "      <td>0.30</td>\n",
       "      <td>0</td>\n",
       "    </tr>\n",
       "    <tr>\n",
       "      <th>18</th>\n",
       "      <td>7</td>\n",
       "      <td>0.20</td>\n",
       "      <td>0</td>\n",
       "    </tr>\n",
       "    <tr>\n",
       "      <th>19</th>\n",
       "      <td>8</td>\n",
       "      <td>0.15</td>\n",
       "      <td>0</td>\n",
       "    </tr>\n",
       "  </tbody>\n",
       "</table>\n",
       "</div>"
      ],
      "text/plain": [
       "    Lương  Thời gian làm việc  Cho vay\n",
       "0      10                1.00        1\n",
       "1       5                2.00        1\n",
       "2       6                1.80        1\n",
       "3       7                1.00        1\n",
       "4       8                2.00        1\n",
       "5       9                0.50        1\n",
       "6       4                3.00        1\n",
       "7       5                2.50        1\n",
       "8       8                1.00        1\n",
       "9       4                2.50        1\n",
       "10      8                0.10        0\n",
       "11      7                0.15        0\n",
       "12      4                1.00        0\n",
       "13      5                0.80        0\n",
       "14      7                0.30        0\n",
       "15      4                1.00        0\n",
       "16      5                0.50        0\n",
       "17      6                0.30        0\n",
       "18      7                0.20        0\n",
       "19      8                0.15        0"
      ]
     },
     "execution_count": 237,
     "metadata": {},
     "output_type": "execute_result"
    }
   ],
   "source": [
    "data = pd.read_csv(\"./dataset.csv\")\n",
    "data"
   ]
  },
  {
   "cell_type": "code",
   "execution_count": 238,
   "id": "a7e0ab73",
   "metadata": {},
   "outputs": [
    {
     "data": {
      "text/plain": [
       "matrix([[10.  ,  1.  ],\n",
       "        [ 5.  ,  2.  ],\n",
       "        [ 6.  ,  1.8 ],\n",
       "        [ 7.  ,  1.  ],\n",
       "        [ 8.  ,  2.  ],\n",
       "        [ 9.  ,  0.5 ],\n",
       "        [ 4.  ,  3.  ],\n",
       "        [ 5.  ,  2.5 ],\n",
       "        [ 8.  ,  1.  ],\n",
       "        [ 4.  ,  2.5 ],\n",
       "        [ 8.  ,  0.1 ],\n",
       "        [ 7.  ,  0.15],\n",
       "        [ 4.  ,  1.  ],\n",
       "        [ 5.  ,  0.8 ],\n",
       "        [ 7.  ,  0.3 ],\n",
       "        [ 4.  ,  1.  ],\n",
       "        [ 5.  ,  0.5 ],\n",
       "        [ 6.  ,  0.3 ],\n",
       "        [ 7.  ,  0.2 ],\n",
       "        [ 8.  ,  0.15]])"
      ]
     },
     "execution_count": 238,
     "metadata": {},
     "output_type": "execute_result"
    }
   ],
   "source": [
    "X = np.transpose(np.matrix((data['Lương'], data[\"Thời gian làm việc\"])))\n",
    "X"
   ]
  },
  {
   "cell_type": "code",
   "execution_count": 239,
   "id": "d37d1b43",
   "metadata": {},
   "outputs": [
    {
     "data": {
      "text/plain": [
       "matrix([[10.],\n",
       "        [ 5.],\n",
       "        [ 6.],\n",
       "        [ 7.],\n",
       "        [ 8.],\n",
       "        [ 9.],\n",
       "        [ 4.],\n",
       "        [ 5.],\n",
       "        [ 8.],\n",
       "        [ 4.]])"
      ]
     },
     "execution_count": 239,
     "metadata": {},
     "output_type": "execute_result"
    }
   ],
   "source": [
    "X[:10, 0]"
   ]
  },
  {
   "cell_type": "code",
   "execution_count": 240,
   "id": "9f490e1a",
   "metadata": {},
   "outputs": [
    {
     "data": {
      "text/plain": [
       "(20, 2)"
      ]
     },
     "execution_count": 240,
     "metadata": {},
     "output_type": "execute_result"
    }
   ],
   "source": [
    "X.shape"
   ]
  },
  {
   "cell_type": "code",
   "execution_count": 241,
   "id": "3c0e4889",
   "metadata": {},
   "outputs": [
    {
     "data": {
      "text/plain": [
       "array([[1],\n",
       "       [1],\n",
       "       [1],\n",
       "       [1],\n",
       "       [1],\n",
       "       [1],\n",
       "       [1],\n",
       "       [1],\n",
       "       [1],\n",
       "       [1],\n",
       "       [0],\n",
       "       [0],\n",
       "       [0],\n",
       "       [0],\n",
       "       [0],\n",
       "       [0],\n",
       "       [0],\n",
       "       [0],\n",
       "       [0],\n",
       "       [0]], dtype=int64)"
      ]
     },
     "execution_count": 241,
     "metadata": {},
     "output_type": "execute_result"
    }
   ],
   "source": [
    "Y = np.array(data[\"Cho vay\"]).reshape(-1, 1)\n",
    "Y"
   ]
  },
  {
   "cell_type": "code",
   "execution_count": 242,
   "id": "5c059099",
   "metadata": {},
   "outputs": [
    {
     "data": {
      "text/plain": [
       "(20, 1)"
      ]
     },
     "execution_count": 242,
     "metadata": {},
     "output_type": "execute_result"
    }
   ],
   "source": [
    "Y.shape"
   ]
  },
  {
   "cell_type": "markdown",
   "id": "a5d30c12",
   "metadata": {},
   "source": [
    "# EX3."
   ]
  },
  {
   "cell_type": "code",
   "execution_count": 243,
   "id": "b31794a7",
   "metadata": {},
   "outputs": [],
   "source": [
    "LR = LogisticRegressionLR()"
   ]
  },
  {
   "cell_type": "code",
   "execution_count": 244,
   "id": "2878f059",
   "metadata": {},
   "outputs": [
    {
     "data": {
      "text/plain": [
       "matrix([[-7.24766613],\n",
       "        [ 0.62873377],\n",
       "        [ 3.64069858]])"
      ]
     },
     "execution_count": 244,
     "metadata": {},
     "output_type": "execute_result"
    }
   ],
   "source": [
    "LR.fit(X, Y)"
   ]
  },
  {
   "cell_type": "markdown",
   "id": "8ea416e0",
   "metadata": {},
   "source": [
    "# EX4."
   ]
  },
  {
   "cell_type": "code",
   "execution_count": 245,
   "id": "96cd61a8",
   "metadata": {},
   "outputs": [
    {
     "data": {
      "image/png": "[encoded data removed]",
      "text/plain": [
       "<Figure size 432x288 with 1 Axes>"
      ]
     },
     "metadata": {
      "needs_background": "light"
     },
     "output_type": "display_data"
    }
   ],
   "source": [
    "LR.plot_model()"
   ]
  },
  {
   "cell_type": "code",
   "execution_count": 246,
   "id": "8ea2ac44",
   "metadata": {},
   "outputs": [
    {
     "data": {
      "text/plain": [
       "1"
      ]
     },
     "execution_count": 246,
     "metadata": {},
     "output_type": "execute_result"
    }
   ],
   "source": [
    "LR.predict(np.matrix([10, 0.5]))"
   ]
  },
  {
   "cell_type": "code",
   "execution_count": 247,
   "id": "000a702f",
   "metadata": {},
   "outputs": [
    {
     "data": {
      "text/plain": [
       "1"
      ]
     },
     "execution_count": 247,
     "metadata": {},
     "output_type": "execute_result"
    }
   ],
   "source": [
    "LR.predict(np.matrix([7, 1.5]))"
   ]
  },
  {
   "cell_type": "code",
   "execution_count": 248,
   "id": "4704d5e6",
   "metadata": {},
   "outputs": [
    {
     "data": {
      "text/plain": [
       "0"
      ]
     },
     "execution_count": 248,
     "metadata": {},
     "output_type": "execute_result"
    }
   ],
   "source": [
    "LR.predict(np.matrix([6, 0.5]))"
   ]
  },
  {
   "cell_type": "markdown",
   "id": "a74c4951",
   "metadata": {},
   "source": [
    "## Double check with sklearn"
   ]
  },
  {
   "cell_type": "code",
   "execution_count": 249,
   "id": "3e4ef548",
   "metadata": {},
   "outputs": [
    {
     "name": "stderr",
     "output_type": "stream",
     "text": [
      "C:\\ProgramData\\Anaconda3\\lib\\site-packages\\sklearn\\utils\\validation.py:63: DataConversionWarning: A column-vector y was passed when a 1d array was expected. Please change the shape of y to (n_samples, ), for example using ravel().\n",
      "  return f(*args, **kwargs)\n"
     ]
    },
    {
     "data": {
      "text/plain": [
       "LogisticRegression()"
      ]
     },
     "execution_count": 249,
     "metadata": {},
     "output_type": "execute_result"
    }
   ],
   "source": [
    "from sklearn.linear_model import LogisticRegression\n",
    "# all parameters not specified are set to their defaults\n",
    "logisticRegr = LogisticRegression()\n",
    "logisticRegr.fit(X, Y)"
   ]
  },
  {
   "cell_type": "code",
   "execution_count": 250,
   "id": "b53e06d5",
   "metadata": {},
   "outputs": [
    {
     "data": {
      "text/plain": [
       "{'C': 1.0,\n",
       " 'class_weight': None,\n",
       " 'dual': False,\n",
       " 'fit_intercept': True,\n",
       " 'intercept_scaling': 1,\n",
       " 'l1_ratio': None,\n",
       " 'max_iter': 100,\n",
       " 'multi_class': 'auto',\n",
       " 'n_jobs': None,\n",
       " 'penalty': 'l2',\n",
       " 'random_state': None,\n",
       " 'solver': 'lbfgs',\n",
       " 'tol': 0.0001,\n",
       " 'verbose': 0,\n",
       " 'warm_start': False}"
      ]
     },
     "execution_count": 250,
     "metadata": {},
     "output_type": "execute_result"
    }
   ],
   "source": [
    "logisticRegr.get_params()"
   ]
  },
  {
   "cell_type": "code",
   "execution_count": 251,
   "id": "19d35483",
   "metadata": {},
   "outputs": [
    {
     "data": {
      "text/plain": [
       "array([[0.66716139, 2.09426755]])"
      ]
     },
     "execution_count": 251,
     "metadata": {},
     "output_type": "execute_result"
    }
   ],
   "source": [
    "logisticRegr.coef_"
   ]
  },
  {
   "cell_type": "code",
   "execution_count": 252,
   "id": "54372f88",
   "metadata": {},
   "outputs": [
    {
     "data": {
      "text/plain": [
       "array([-6.4390718])"
      ]
     },
     "execution_count": 252,
     "metadata": {},
     "output_type": "execute_result"
    }
   ],
   "source": [
    "logisticRegr.intercept_"
   ]
  },
  {
   "cell_type": "code",
   "execution_count": 253,
   "id": "d26e6773",
   "metadata": {},
   "outputs": [
    {
     "data": {
      "text/plain": [
       "array([1], dtype=int64)"
      ]
     },
     "execution_count": 253,
     "metadata": {},
     "output_type": "execute_result"
    }
   ],
   "source": [
    "logisticRegr.predict([[10, 0.5]])"
   ]
  },
  {
   "cell_type": "code",
   "execution_count": 254,
   "id": "2f6294b2",
   "metadata": {},
   "outputs": [
    {
     "data": {
      "text/plain": [
       "array([0], dtype=int64)"
      ]
     },
     "execution_count": 254,
     "metadata": {},
     "output_type": "execute_result"
    }
   ],
   "source": [
    "logisticRegr.predict([[6, 0.5]])"
   ]
  },
  {
   "cell_type": "code",
   "execution_count": 255,
   "id": "00eb6e33",
   "metadata": {},
   "outputs": [
    {
     "data": {
      "text/plain": [
       "array([1], dtype=int64)"
      ]
     },
     "execution_count": 255,
     "metadata": {},
     "output_type": "execute_result"
    }
   ],
   "source": [
    "logisticRegr.predict([[7, 1.5]])"
   ]
  },
  {
   "cell_type": "code",
   "execution_count": null,
   "id": "58bd8635",
   "metadata": {},
   "outputs": [],
   "source": []
  }
 ],
 "metadata": {
  "kernelspec": {
   "display_name": "Python 3 (ipykernel)",
   "language": "python",
   "name": "python3"
  },
  "language_info": {
   "codemirror_mode": {
    "name": "ipython",
    "version": 3
   },
   "file_extension": ".py",
   "mimetype": "text/x-python",
   "name": "python",
   "nbconvert_exporter": "python",
   "pygments_lexer": "ipython3",
   "version": "3.9.7"
  }
 },
 "nbformat": 4,
 "nbformat_minor": 5
}
